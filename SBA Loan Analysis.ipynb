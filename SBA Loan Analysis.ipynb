{
 "cells": [
  {
   "cell_type": "markdown",
   "id": "7e460ade",
   "metadata": {},
   "source": [
    "### INTRODUCTION"
   ]
  },
  {
   "cell_type": "code",
   "execution_count": 1,
   "id": "7e5bef8f",
   "metadata": {},
   "outputs": [],
   "source": [
    "import pandas as pd\n",
    "import numpy as np\n",
    "import matplotlib.pyplot as plt\n",
    "import seaborn as sns\n",
    "\n",
    "from sklearn.preprocessing import StandardScaler\n",
    "from sklearn.model_selection import train_test_split\n",
    "from sklearn.linear_model import LogisticRegression\n",
    "from sklearn.tree import DecisionTreeClassifier\n",
    "from xgboost import XGBClassifier\n",
    "from sklearn.metrics import accuracy_score, confusion_matrix, classification_report\n",
    "\n",
    "import warnings\n",
    "warnings.filterwarnings(\"ignore\")"
   ]
  },
  {
   "cell_type": "code",
   "execution_count": 2,
   "id": "38adbafc",
   "metadata": {},
   "outputs": [],
   "source": [
    "def describe_more(df,normalize_ind=False, weight_column=None, skip_columns=[], dropna=True) :\n",
    "    var = [] ; l = [] ; t = []; unq =[]; min_l = []; max_l = [];\n",
    "    assert isinstance(skip_columns, list), \"Argument skip_columns should be list\"\n",
    "    if weight_column is not None:\n",
    "        if weight_column not in list(df.columns):\n",
    "            raise AssertionError('weight_column is not a valid column name in the input DataFrame')\n",
    "      \n",
    "    for x in df:\n",
    "        if x in skip_columns:\n",
    "            pass\n",
    "        else:\n",
    "            var.append( x )\n",
    "            uniq_counts = len(pd.value_counts(df[x],dropna=dropna))\n",
    "            uniq_counts = len(pd.value_counts(df[x], dropna=dropna)[pd.value_counts(df[x],dropna=dropna)>0])\n",
    "            l.append(uniq_counts)\n",
    "            t.append( df[ x ].dtypes )\n",
    "            min_l.append(df[x].apply(str).str.len().min())\n",
    "            max_l.append(df[x].apply(str).str.len().max())\n",
    "            if weight_column is not None and x not in skip_columns:\n",
    "                df2 = df.groupby(x).agg({weight_column: 'sum'}).sort_values(weight_column, ascending=False)\n",
    "                df2['authtrans_vts_cnt']=((df2[weight_column])/df2[weight_column].sum()).round(2)\n",
    "                unq.append(df2.head(n=100).to_dict()[weight_column])\n",
    "            else:\n",
    "                df_cat_d = df[x].value_counts(normalize=normalize_ind,dropna=dropna).round(decimals=2)\n",
    "                df_cat_d = df_cat_d[df_cat_d>0]\n",
    "                #unq.append(df[x].value_counts().iloc[0:100].to_dict())\n",
    "                unq.append(df_cat_d.iloc[0:100].to_dict())\n",
    "            \n",
    "    levels = pd.DataFrame( { 'A_Variable' : var , 'Levels' : l , 'Datatype' : t ,\n",
    "                             'Min Length' : min_l, 'Max Length': max_l, 'Level_Values' : unq} )\n",
    "    return levels"
   ]
  },
  {
   "cell_type": "code",
   "execution_count": 3,
   "id": "7559a79e",
   "metadata": {},
   "outputs": [],
   "source": [
    "df=pd.read_csv(\"/Users/onkar/Downloads/SBA_archive/SBAnational.csv\")"
   ]
  },
  {
   "cell_type": "code",
   "execution_count": 4,
   "id": "add7373b",
   "metadata": {},
   "outputs": [
    {
     "data": {
      "text/html": [
       "<div>\n",
       "<style scoped>\n",
       "    .dataframe tbody tr th:only-of-type {\n",
       "        vertical-align: middle;\n",
       "    }\n",
       "\n",
       "    .dataframe tbody tr th {\n",
       "        vertical-align: top;\n",
       "    }\n",
       "\n",
       "    .dataframe thead th {\n",
       "        text-align: right;\n",
       "    }\n",
       "</style>\n",
       "<table border=\"1\" class=\"dataframe\">\n",
       "  <thead>\n",
       "    <tr style=\"text-align: right;\">\n",
       "      <th></th>\n",
       "      <th>LoanNr_ChkDgt</th>\n",
       "      <th>Name</th>\n",
       "      <th>City</th>\n",
       "      <th>State</th>\n",
       "      <th>Zip</th>\n",
       "      <th>Bank</th>\n",
       "      <th>BankState</th>\n",
       "      <th>NAICS</th>\n",
       "      <th>ApprovalDate</th>\n",
       "      <th>ApprovalFY</th>\n",
       "      <th>...</th>\n",
       "      <th>RevLineCr</th>\n",
       "      <th>LowDoc</th>\n",
       "      <th>ChgOffDate</th>\n",
       "      <th>DisbursementDate</th>\n",
       "      <th>DisbursementGross</th>\n",
       "      <th>BalanceGross</th>\n",
       "      <th>MIS_Status</th>\n",
       "      <th>ChgOffPrinGr</th>\n",
       "      <th>GrAppv</th>\n",
       "      <th>SBA_Appv</th>\n",
       "    </tr>\n",
       "  </thead>\n",
       "  <tbody>\n",
       "    <tr>\n",
       "      <th>0</th>\n",
       "      <td>1000014003</td>\n",
       "      <td>ABC HOBBYCRAFT</td>\n",
       "      <td>EVANSVILLE</td>\n",
       "      <td>IN</td>\n",
       "      <td>47711</td>\n",
       "      <td>FIFTH THIRD BANK</td>\n",
       "      <td>OH</td>\n",
       "      <td>451120</td>\n",
       "      <td>28-Feb-97</td>\n",
       "      <td>1997</td>\n",
       "      <td>...</td>\n",
       "      <td>N</td>\n",
       "      <td>Y</td>\n",
       "      <td>NaN</td>\n",
       "      <td>28-Feb-99</td>\n",
       "      <td>$60,000.00</td>\n",
       "      <td>$0.00</td>\n",
       "      <td>P I F</td>\n",
       "      <td>$0.00</td>\n",
       "      <td>$60,000.00</td>\n",
       "      <td>$48,000.00</td>\n",
       "    </tr>\n",
       "    <tr>\n",
       "      <th>1</th>\n",
       "      <td>1000024006</td>\n",
       "      <td>LANDMARK BAR &amp; GRILLE (THE)</td>\n",
       "      <td>NEW PARIS</td>\n",
       "      <td>IN</td>\n",
       "      <td>46526</td>\n",
       "      <td>1ST SOURCE BANK</td>\n",
       "      <td>IN</td>\n",
       "      <td>722410</td>\n",
       "      <td>28-Feb-97</td>\n",
       "      <td>1997</td>\n",
       "      <td>...</td>\n",
       "      <td>N</td>\n",
       "      <td>Y</td>\n",
       "      <td>NaN</td>\n",
       "      <td>31-May-97</td>\n",
       "      <td>$40,000.00</td>\n",
       "      <td>$0.00</td>\n",
       "      <td>P I F</td>\n",
       "      <td>$0.00</td>\n",
       "      <td>$40,000.00</td>\n",
       "      <td>$32,000.00</td>\n",
       "    </tr>\n",
       "    <tr>\n",
       "      <th>2</th>\n",
       "      <td>1000034009</td>\n",
       "      <td>WHITLOCK DDS, TODD M.</td>\n",
       "      <td>BLOOMINGTON</td>\n",
       "      <td>IN</td>\n",
       "      <td>47401</td>\n",
       "      <td>GRANT COUNTY STATE BANK</td>\n",
       "      <td>IN</td>\n",
       "      <td>621210</td>\n",
       "      <td>28-Feb-97</td>\n",
       "      <td>1997</td>\n",
       "      <td>...</td>\n",
       "      <td>N</td>\n",
       "      <td>N</td>\n",
       "      <td>NaN</td>\n",
       "      <td>31-Dec-97</td>\n",
       "      <td>$287,000.00</td>\n",
       "      <td>$0.00</td>\n",
       "      <td>P I F</td>\n",
       "      <td>$0.00</td>\n",
       "      <td>$287,000.00</td>\n",
       "      <td>$215,250.00</td>\n",
       "    </tr>\n",
       "    <tr>\n",
       "      <th>3</th>\n",
       "      <td>1000044001</td>\n",
       "      <td>BIG BUCKS PAWN &amp; JEWELRY, LLC</td>\n",
       "      <td>BROKEN ARROW</td>\n",
       "      <td>OK</td>\n",
       "      <td>74012</td>\n",
       "      <td>1ST NATL BK &amp; TR CO OF BROKEN</td>\n",
       "      <td>OK</td>\n",
       "      <td>0</td>\n",
       "      <td>28-Feb-97</td>\n",
       "      <td>1997</td>\n",
       "      <td>...</td>\n",
       "      <td>N</td>\n",
       "      <td>Y</td>\n",
       "      <td>NaN</td>\n",
       "      <td>30-Jun-97</td>\n",
       "      <td>$35,000.00</td>\n",
       "      <td>$0.00</td>\n",
       "      <td>P I F</td>\n",
       "      <td>$0.00</td>\n",
       "      <td>$35,000.00</td>\n",
       "      <td>$28,000.00</td>\n",
       "    </tr>\n",
       "    <tr>\n",
       "      <th>4</th>\n",
       "      <td>1000054004</td>\n",
       "      <td>ANASTASIA CONFECTIONS, INC.</td>\n",
       "      <td>ORLANDO</td>\n",
       "      <td>FL</td>\n",
       "      <td>32801</td>\n",
       "      <td>FLORIDA BUS. DEVEL CORP</td>\n",
       "      <td>FL</td>\n",
       "      <td>0</td>\n",
       "      <td>28-Feb-97</td>\n",
       "      <td>1997</td>\n",
       "      <td>...</td>\n",
       "      <td>N</td>\n",
       "      <td>N</td>\n",
       "      <td>NaN</td>\n",
       "      <td>14-May-97</td>\n",
       "      <td>$229,000.00</td>\n",
       "      <td>$0.00</td>\n",
       "      <td>P I F</td>\n",
       "      <td>$0.00</td>\n",
       "      <td>$229,000.00</td>\n",
       "      <td>$229,000.00</td>\n",
       "    </tr>\n",
       "  </tbody>\n",
       "</table>\n",
       "<p>5 rows × 27 columns</p>\n",
       "</div>"
      ],
      "text/plain": [
       "   LoanNr_ChkDgt                           Name          City State    Zip  \\\n",
       "0     1000014003                 ABC HOBBYCRAFT    EVANSVILLE    IN  47711   \n",
       "1     1000024006    LANDMARK BAR & GRILLE (THE)     NEW PARIS    IN  46526   \n",
       "2     1000034009          WHITLOCK DDS, TODD M.   BLOOMINGTON    IN  47401   \n",
       "3     1000044001  BIG BUCKS PAWN & JEWELRY, LLC  BROKEN ARROW    OK  74012   \n",
       "4     1000054004    ANASTASIA CONFECTIONS, INC.       ORLANDO    FL  32801   \n",
       "\n",
       "                            Bank BankState   NAICS ApprovalDate ApprovalFY  \\\n",
       "0               FIFTH THIRD BANK        OH  451120    28-Feb-97       1997   \n",
       "1                1ST SOURCE BANK        IN  722410    28-Feb-97       1997   \n",
       "2        GRANT COUNTY STATE BANK        IN  621210    28-Feb-97       1997   \n",
       "3  1ST NATL BK & TR CO OF BROKEN        OK       0    28-Feb-97       1997   \n",
       "4        FLORIDA BUS. DEVEL CORP        FL       0    28-Feb-97       1997   \n",
       "\n",
       "   ...  RevLineCr  LowDoc  ChgOffDate  DisbursementDate  DisbursementGross  \\\n",
       "0  ...          N       Y         NaN         28-Feb-99        $60,000.00    \n",
       "1  ...          N       Y         NaN         31-May-97        $40,000.00    \n",
       "2  ...          N       N         NaN         31-Dec-97       $287,000.00    \n",
       "3  ...          N       Y         NaN         30-Jun-97        $35,000.00    \n",
       "4  ...          N       N         NaN         14-May-97       $229,000.00    \n",
       "\n",
       "   BalanceGross  MIS_Status ChgOffPrinGr        GrAppv      SBA_Appv  \n",
       "0        $0.00        P I F       $0.00    $60,000.00    $48,000.00   \n",
       "1        $0.00        P I F       $0.00    $40,000.00    $32,000.00   \n",
       "2        $0.00        P I F       $0.00   $287,000.00   $215,250.00   \n",
       "3        $0.00        P I F       $0.00    $35,000.00    $28,000.00   \n",
       "4        $0.00        P I F       $0.00   $229,000.00   $229,000.00   \n",
       "\n",
       "[5 rows x 27 columns]"
      ]
     },
     "execution_count": 4,
     "metadata": {},
     "output_type": "execute_result"
    }
   ],
   "source": [
    "df.head()"
   ]
  },
  {
   "cell_type": "code",
   "execution_count": 5,
   "id": "8a722bc1",
   "metadata": {},
   "outputs": [
    {
     "data": {
      "text/plain": [
       "(899164, 27)"
      ]
     },
     "execution_count": 5,
     "metadata": {},
     "output_type": "execute_result"
    }
   ],
   "source": [
    "df.shape"
   ]
  },
  {
   "cell_type": "markdown",
   "id": "eb897040",
   "metadata": {},
   "source": [
    "## 1. DATA CLEANING"
   ]
  },
  {
   "cell_type": "markdown",
   "id": "1dcb8249",
   "metadata": {},
   "source": [
    "##### According to the dataset documentation provided :\n",
    "\n",
    "There are a number of variables that consistently emerge as indicators of risk that could explain the variation of loan default rates. Seven variables, along with some exploratory analysis, are discussed below including Location (State), Industry, Gross Disbursement, New vs Established Business, Loans Backed by Real Estate, Economic Recession, and SBA's Guaranteed Portion of Approved Loan.\n",
    " "
   ]
  },
  {
   "cell_type": "code",
   "execution_count": 6,
   "id": "e27c0b3e",
   "metadata": {},
   "outputs": [],
   "source": [
    "df=df.drop_duplicates(keep='first')   # delete duplicates, if any"
   ]
  },
  {
   "cell_type": "code",
   "execution_count": 7,
   "id": "e5200cf6",
   "metadata": {},
   "outputs": [
    {
     "data": {
      "text/plain": [
       "LoanNr_ChkDgt             0\n",
       "Name                     14\n",
       "City                     30\n",
       "State                    14\n",
       "Zip                       0\n",
       "Bank                   1559\n",
       "BankState              1566\n",
       "NAICS                     0\n",
       "ApprovalDate              0\n",
       "ApprovalFY                0\n",
       "Term                      0\n",
       "NoEmp                     0\n",
       "NewExist                136\n",
       "CreateJob                 0\n",
       "RetainedJob               0\n",
       "FranchiseCode             0\n",
       "UrbanRural                0\n",
       "RevLineCr              4528\n",
       "LowDoc                 2582\n",
       "ChgOffDate           736465\n",
       "DisbursementDate       2368\n",
       "DisbursementGross         0\n",
       "BalanceGross              0\n",
       "MIS_Status             1997\n",
       "ChgOffPrinGr              0\n",
       "GrAppv                    0\n",
       "SBA_Appv                  0\n",
       "dtype: int64"
      ]
     },
     "execution_count": 7,
     "metadata": {},
     "output_type": "execute_result"
    }
   ],
   "source": [
    "df.isna().sum()"
   ]
  },
  {
   "cell_type": "code",
   "execution_count": 8,
   "id": "fd29f008",
   "metadata": {},
   "outputs": [],
   "source": [
    "df.dropna(subset=['MIS_Status','RevLineCr','LowDoc','Bank','BankState',\n",
    "                  'Name','City','State','NewExist','DisbursementDate'],inplace=True)\n",
    "\n",
    "# dropped all but ChgOffDate null values as we do not really need that column in particular"
   ]
  },
  {
   "cell_type": "code",
   "execution_count": 9,
   "id": "09bae2e9",
   "metadata": {},
   "outputs": [
    {
     "data": {
      "text/plain": [
       "P I F     730199\n",
       "CHGOFF    156041\n",
       "Name: MIS_Status, dtype: int64"
      ]
     },
     "execution_count": 9,
     "metadata": {},
     "output_type": "execute_result"
    }
   ],
   "source": [
    "df['MIS_Status'].value_counts()   # we want to see how many loans have defaulted, indicated by status as 'CHGOFF'"
   ]
  },
  {
   "cell_type": "code",
   "execution_count": 10,
   "id": "7f4b0c07",
   "metadata": {},
   "outputs": [],
   "source": [
    "df=df.drop(axis=1,columns=['ChgOffDate'])   # dropped ChgOffDate column"
   ]
  },
  {
   "cell_type": "code",
   "execution_count": 11,
   "id": "e8687bb8",
   "metadata": {},
   "outputs": [
    {
     "data": {
      "text/html": [
       "<div>\n",
       "<style scoped>\n",
       "    .dataframe tbody tr th:only-of-type {\n",
       "        vertical-align: middle;\n",
       "    }\n",
       "\n",
       "    .dataframe tbody tr th {\n",
       "        vertical-align: top;\n",
       "    }\n",
       "\n",
       "    .dataframe thead th {\n",
       "        text-align: right;\n",
       "    }\n",
       "</style>\n",
       "<table border=\"1\" class=\"dataframe\">\n",
       "  <thead>\n",
       "    <tr style=\"text-align: right;\">\n",
       "      <th></th>\n",
       "      <th>A_Variable</th>\n",
       "      <th>Levels</th>\n",
       "      <th>Datatype</th>\n",
       "      <th>Min Length</th>\n",
       "      <th>Max Length</th>\n",
       "      <th>Level_Values</th>\n",
       "    </tr>\n",
       "  </thead>\n",
       "  <tbody>\n",
       "    <tr>\n",
       "      <th>0</th>\n",
       "      <td>LoanNr_ChkDgt</td>\n",
       "      <td>886240</td>\n",
       "      <td>int64</td>\n",
       "      <td>10</td>\n",
       "      <td>10</td>\n",
       "      <td>{1000014003: 1, 5934054006: 1, 5933964006: 1, ...</td>\n",
       "    </tr>\n",
       "    <tr>\n",
       "      <th>1</th>\n",
       "      <td>Name</td>\n",
       "      <td>769838</td>\n",
       "      <td>object</td>\n",
       "      <td>1</td>\n",
       "      <td>30</td>\n",
       "      <td>{'SUBWAY': 1259, 'QUIZNO'S SUBS': 433, 'COLD S...</td>\n",
       "    </tr>\n",
       "    <tr>\n",
       "      <th>2</th>\n",
       "      <td>City</td>\n",
       "      <td>32298</td>\n",
       "      <td>object</td>\n",
       "      <td>1</td>\n",
       "      <td>30</td>\n",
       "      <td>{'LOS ANGELES': 11467, 'HOUSTON': 10129, 'NEW ...</td>\n",
       "    </tr>\n",
       "    <tr>\n",
       "      <th>3</th>\n",
       "      <td>State</td>\n",
       "      <td>51</td>\n",
       "      <td>object</td>\n",
       "      <td>2</td>\n",
       "      <td>2</td>\n",
       "      <td>{'CA': 129398, 'TX': 69348, 'NY': 56869, 'FL':...</td>\n",
       "    </tr>\n",
       "    <tr>\n",
       "      <th>4</th>\n",
       "      <td>Zip</td>\n",
       "      <td>33501</td>\n",
       "      <td>int64</td>\n",
       "      <td>1</td>\n",
       "      <td>5</td>\n",
       "      <td>{10001: 919, 90015: 917, 93401: 749, 90010: 73...</td>\n",
       "    </tr>\n",
       "    <tr>\n",
       "      <th>5</th>\n",
       "      <td>Bank</td>\n",
       "      <td>5788</td>\n",
       "      <td>object</td>\n",
       "      <td>3</td>\n",
       "      <td>30</td>\n",
       "      <td>{'BANK OF AMERICA NATL ASSOC': 86075, 'WELLS F...</td>\n",
       "    </tr>\n",
       "    <tr>\n",
       "      <th>6</th>\n",
       "      <td>BankState</td>\n",
       "      <td>56</td>\n",
       "      <td>object</td>\n",
       "      <td>2</td>\n",
       "      <td>2</td>\n",
       "      <td>{'CA': 116737, 'NC': 78708, 'IL': 64919, 'OH':...</td>\n",
       "    </tr>\n",
       "    <tr>\n",
       "      <th>7</th>\n",
       "      <td>NAICS</td>\n",
       "      <td>1311</td>\n",
       "      <td>int64</td>\n",
       "      <td>1</td>\n",
       "      <td>6</td>\n",
       "      <td>{0: 198267, 722110: 27772, 722211: 19338, 8111...</td>\n",
       "    </tr>\n",
       "    <tr>\n",
       "      <th>8</th>\n",
       "      <td>ApprovalDate</td>\n",
       "      <td>9786</td>\n",
       "      <td>object</td>\n",
       "      <td>8</td>\n",
       "      <td>9</td>\n",
       "      <td>{'7-Jul-93': 1120, '30-Jan-04': 1028, '8-Jul-9...</td>\n",
       "    </tr>\n",
       "    <tr>\n",
       "      <th>9</th>\n",
       "      <td>ApprovalFY</td>\n",
       "      <td>64</td>\n",
       "      <td>object</td>\n",
       "      <td>4</td>\n",
       "      <td>5</td>\n",
       "      <td>{2006: 75657, 2007: 71406, 2003: 57688, 2005: ...</td>\n",
       "    </tr>\n",
       "    <tr>\n",
       "      <th>10</th>\n",
       "      <td>Term</td>\n",
       "      <td>411</td>\n",
       "      <td>int64</td>\n",
       "      <td>1</td>\n",
       "      <td>3</td>\n",
       "      <td>{84: 225820, 60: 88507, 240: 84964, 120: 76712...</td>\n",
       "    </tr>\n",
       "    <tr>\n",
       "      <th>11</th>\n",
       "      <td>NoEmp</td>\n",
       "      <td>597</td>\n",
       "      <td>int64</td>\n",
       "      <td>1</td>\n",
       "      <td>4</td>\n",
       "      <td>{1: 151454, 2: 136321, 3: 89355, 4: 72649, 5: ...</td>\n",
       "    </tr>\n",
       "    <tr>\n",
       "      <th>12</th>\n",
       "      <td>NewExist</td>\n",
       "      <td>3</td>\n",
       "      <td>float64</td>\n",
       "      <td>3</td>\n",
       "      <td>3</td>\n",
       "      <td>{1.0: 636139, 2.0: 249080, 0.0: 1021}</td>\n",
       "    </tr>\n",
       "    <tr>\n",
       "      <th>13</th>\n",
       "      <td>CreateJob</td>\n",
       "      <td>246</td>\n",
       "      <td>int64</td>\n",
       "      <td>1</td>\n",
       "      <td>4</td>\n",
       "      <td>{0: 619802, 1: 62272, 2: 57049, 3: 28461, 4: 2...</td>\n",
       "    </tr>\n",
       "    <tr>\n",
       "      <th>14</th>\n",
       "      <td>RetainedJob</td>\n",
       "      <td>356</td>\n",
       "      <td>int64</td>\n",
       "      <td>1</td>\n",
       "      <td>4</td>\n",
       "      <td>{0: 433397, 1: 87244, 2: 75850, 3: 49294, 4: 3...</td>\n",
       "    </tr>\n",
       "    <tr>\n",
       "      <th>15</th>\n",
       "      <td>FranchiseCode</td>\n",
       "      <td>2754</td>\n",
       "      <td>int64</td>\n",
       "      <td>1</td>\n",
       "      <td>5</td>\n",
       "      <td>{1: 631412, 0: 203625, 78760: 3342, 68020: 191...</td>\n",
       "    </tr>\n",
       "    <tr>\n",
       "      <th>16</th>\n",
       "      <td>UrbanRural</td>\n",
       "      <td>3</td>\n",
       "      <td>int64</td>\n",
       "      <td>1</td>\n",
       "      <td>1</td>\n",
       "      <td>{1: 465149, 0: 317016, 2: 104075}</td>\n",
       "    </tr>\n",
       "    <tr>\n",
       "      <th>17</th>\n",
       "      <td>RevLineCr</td>\n",
       "      <td>18</td>\n",
       "      <td>object</td>\n",
       "      <td>1</td>\n",
       "      <td>1</td>\n",
       "      <td>{'N': 415439, '0': 257363, 'Y': 198267, 'T': 1...</td>\n",
       "    </tr>\n",
       "    <tr>\n",
       "      <th>18</th>\n",
       "      <td>LowDoc</td>\n",
       "      <td>8</td>\n",
       "      <td>object</td>\n",
       "      <td>1</td>\n",
       "      <td>1</td>\n",
       "      <td>{'N': 775189, 'Y': 107894, '0': 1236, 'C': 756...</td>\n",
       "    </tr>\n",
       "    <tr>\n",
       "      <th>19</th>\n",
       "      <td>DisbursementDate</td>\n",
       "      <td>8435</td>\n",
       "      <td>object</td>\n",
       "      <td>8</td>\n",
       "      <td>9</td>\n",
       "      <td>{'31-Jul-95': 9747, '31-Jan-95': 9691, '31-Oct...</td>\n",
       "    </tr>\n",
       "    <tr>\n",
       "      <th>20</th>\n",
       "      <td>DisbursementGross</td>\n",
       "      <td>117753</td>\n",
       "      <td>object</td>\n",
       "      <td>10</td>\n",
       "      <td>15</td>\n",
       "      <td>{'$50,000.00 ': 42928, '$100,000.00 ': 36007, ...</td>\n",
       "    </tr>\n",
       "    <tr>\n",
       "      <th>21</th>\n",
       "      <td>BalanceGross</td>\n",
       "      <td>15</td>\n",
       "      <td>object</td>\n",
       "      <td>6</td>\n",
       "      <td>12</td>\n",
       "      <td>{'$0.00 ': 886226, '$12,750.00 ': 1, '$827,875...</td>\n",
       "    </tr>\n",
       "    <tr>\n",
       "      <th>22</th>\n",
       "      <td>MIS_Status</td>\n",
       "      <td>2</td>\n",
       "      <td>object</td>\n",
       "      <td>5</td>\n",
       "      <td>6</td>\n",
       "      <td>{'P I F': 730199, 'CHGOFF': 156041}</td>\n",
       "    </tr>\n",
       "    <tr>\n",
       "      <th>23</th>\n",
       "      <td>ChgOffPrinGr</td>\n",
       "      <td>82645</td>\n",
       "      <td>object</td>\n",
       "      <td>6</td>\n",
       "      <td>14</td>\n",
       "      <td>{'$0.00 ': 726032, '$50,000.00 ': 2101, '$10,0...</td>\n",
       "    </tr>\n",
       "    <tr>\n",
       "      <th>24</th>\n",
       "      <td>GrAppv</td>\n",
       "      <td>21922</td>\n",
       "      <td>object</td>\n",
       "      <td>10</td>\n",
       "      <td>14</td>\n",
       "      <td>{'$50,000.00 ': 68424, '$25,000.00 ': 50566, '...</td>\n",
       "    </tr>\n",
       "    <tr>\n",
       "      <th>25</th>\n",
       "      <td>SBA_Appv</td>\n",
       "      <td>37935</td>\n",
       "      <td>object</td>\n",
       "      <td>8</td>\n",
       "      <td>14</td>\n",
       "      <td>{'$25,000.00 ': 49277, '$12,500.00 ': 39814, '...</td>\n",
       "    </tr>\n",
       "  </tbody>\n",
       "</table>\n",
       "</div>"
      ],
      "text/plain": [
       "           A_Variable  Levels Datatype  Min Length  Max Length  \\\n",
       "0       LoanNr_ChkDgt  886240    int64          10          10   \n",
       "1                Name  769838   object           1          30   \n",
       "2                City   32298   object           1          30   \n",
       "3               State      51   object           2           2   \n",
       "4                 Zip   33501    int64           1           5   \n",
       "5                Bank    5788   object           3          30   \n",
       "6           BankState      56   object           2           2   \n",
       "7               NAICS    1311    int64           1           6   \n",
       "8        ApprovalDate    9786   object           8           9   \n",
       "9          ApprovalFY      64   object           4           5   \n",
       "10               Term     411    int64           1           3   \n",
       "11              NoEmp     597    int64           1           4   \n",
       "12           NewExist       3  float64           3           3   \n",
       "13          CreateJob     246    int64           1           4   \n",
       "14        RetainedJob     356    int64           1           4   \n",
       "15      FranchiseCode    2754    int64           1           5   \n",
       "16         UrbanRural       3    int64           1           1   \n",
       "17          RevLineCr      18   object           1           1   \n",
       "18             LowDoc       8   object           1           1   \n",
       "19   DisbursementDate    8435   object           8           9   \n",
       "20  DisbursementGross  117753   object          10          15   \n",
       "21       BalanceGross      15   object           6          12   \n",
       "22         MIS_Status       2   object           5           6   \n",
       "23       ChgOffPrinGr   82645   object           6          14   \n",
       "24             GrAppv   21922   object          10          14   \n",
       "25           SBA_Appv   37935   object           8          14   \n",
       "\n",
       "                                         Level_Values  \n",
       "0   {1000014003: 1, 5934054006: 1, 5933964006: 1, ...  \n",
       "1   {'SUBWAY': 1259, 'QUIZNO'S SUBS': 433, 'COLD S...  \n",
       "2   {'LOS ANGELES': 11467, 'HOUSTON': 10129, 'NEW ...  \n",
       "3   {'CA': 129398, 'TX': 69348, 'NY': 56869, 'FL':...  \n",
       "4   {10001: 919, 90015: 917, 93401: 749, 90010: 73...  \n",
       "5   {'BANK OF AMERICA NATL ASSOC': 86075, 'WELLS F...  \n",
       "6   {'CA': 116737, 'NC': 78708, 'IL': 64919, 'OH':...  \n",
       "7   {0: 198267, 722110: 27772, 722211: 19338, 8111...  \n",
       "8   {'7-Jul-93': 1120, '30-Jan-04': 1028, '8-Jul-9...  \n",
       "9   {2006: 75657, 2007: 71406, 2003: 57688, 2005: ...  \n",
       "10  {84: 225820, 60: 88507, 240: 84964, 120: 76712...  \n",
       "11  {1: 151454, 2: 136321, 3: 89355, 4: 72649, 5: ...  \n",
       "12              {1.0: 636139, 2.0: 249080, 0.0: 1021}  \n",
       "13  {0: 619802, 1: 62272, 2: 57049, 3: 28461, 4: 2...  \n",
       "14  {0: 433397, 1: 87244, 2: 75850, 3: 49294, 4: 3...  \n",
       "15  {1: 631412, 0: 203625, 78760: 3342, 68020: 191...  \n",
       "16                  {1: 465149, 0: 317016, 2: 104075}  \n",
       "17  {'N': 415439, '0': 257363, 'Y': 198267, 'T': 1...  \n",
       "18  {'N': 775189, 'Y': 107894, '0': 1236, 'C': 756...  \n",
       "19  {'31-Jul-95': 9747, '31-Jan-95': 9691, '31-Oct...  \n",
       "20  {'$50,000.00 ': 42928, '$100,000.00 ': 36007, ...  \n",
       "21  {'$0.00 ': 886226, '$12,750.00 ': 1, '$827,875...  \n",
       "22                {'P I F': 730199, 'CHGOFF': 156041}  \n",
       "23  {'$0.00 ': 726032, '$50,000.00 ': 2101, '$10,0...  \n",
       "24  {'$50,000.00 ': 68424, '$25,000.00 ': 50566, '...  \n",
       "25  {'$25,000.00 ': 49277, '$12,500.00 ': 39814, '...  "
      ]
     },
     "execution_count": 11,
     "metadata": {},
     "output_type": "execute_result"
    }
   ],
   "source": [
    "describe_more(df)"
   ]
  },
  {
   "cell_type": "markdown",
   "id": "aa33be67",
   "metadata": {},
   "source": [
    "\n",
    "##### # We see here that some records of DisbursementGross, BalanceGross, ChgOffPrinGr, GrAppv & SBA_Appv are being read as objects (strings) instead of numbers (integers)\n",
    "\n",
    "\n",
    "##### > Some things we note or want to do are: \n",
    "\n",
    "     1. drop records that dont have Y or N values of LowDoc\n",
    "     2. some ApprovalFY records are also not integers\n",
    "     3. drop NewExist records that have value 0\n",
    "     4. convert ApprovalDate and DisbursementDate columns to datetime values\n",
    " "
   ]
  },
  {
   "cell_type": "code",
   "execution_count": 12,
   "id": "baf55535",
   "metadata": {},
   "outputs": [
    {
     "name": "stdout",
     "output_type": "stream",
     "text": [
      "<class 'pandas.core.frame.DataFrame'>\n",
      "Int64Index: 886240 entries, 0 to 899163\n",
      "Data columns (total 5 columns):\n",
      " #   Column             Non-Null Count   Dtype  \n",
      "---  ------             --------------   -----  \n",
      " 0   DisbursementGross  886240 non-null  float64\n",
      " 1   BalanceGross       886240 non-null  float64\n",
      " 2   ChgOffPrinGr       886240 non-null  float64\n",
      " 3   GrAppv             886240 non-null  float64\n",
      " 4   SBA_Appv           886240 non-null  float64\n",
      "dtypes: float64(5)\n",
      "memory usage: 40.6 MB\n"
     ]
    }
   ],
   "source": [
    "cols_mess=[\"DisbursementGross\", \"BalanceGross\", \"ChgOffPrinGr\", \"GrAppv\", \"SBA_Appv\"]\n",
    "df[cols_mess]=df[cols_mess].astype(str).replace(\"[']\",\"\",regex=True)   # drop single quotation marks\n",
    "df[cols_mess]=df[cols_mess].astype(str).replace(\"[,]\",\"\",regex=True)   # drop commas\n",
    "df[cols_mess]=df[cols_mess].astype(str).replace(\"[$]\",\"\",regex=True)   # drop $ sign\n",
    "\n",
    "df[cols_mess]=df[cols_mess].astype(float)   # convert the cols_mess columns to float data type\n",
    "\n",
    "df[cols_mess].info()"
   ]
  },
  {
   "cell_type": "code",
   "execution_count": 13,
   "id": "6aca1215",
   "metadata": {},
   "outputs": [
    {
     "data": {
      "text/plain": [
       "array([1997, 1980, 2006, 1998, 1999, 2000, 2001, 1972, 2003, 2004, 1978,\n",
       "       1979, 1981, 2005, 1982, 1983, 1973, 1984, 2007, 1985, 1986, 1987,\n",
       "       2008, 1988, 2009, 1989, 1991, 1990, 1974, 2010, 2011, 1992, 1993,\n",
       "       2002, 2012, 2013, 1994, 2014, 1975, 1977, 1976, '2004', '1994',\n",
       "       '1979', '1976', '1975', '1974', '1977', '1981', '1982', '1983',\n",
       "       '1984', '1978', '1980', '1968', '1976A', '1969', '1995', '1970',\n",
       "       '2005', '1996', '1971', 1996, 1971], dtype=object)"
      ]
     },
     "execution_count": 13,
     "metadata": {},
     "output_type": "execute_result"
    }
   ],
   "source": [
    "df[\"ApprovalFY\"].unique()   # note that some years are within quotation marks and one is followed by an A"
   ]
  },
  {
   "cell_type": "code",
   "execution_count": 14,
   "id": "bc7a4716",
   "metadata": {},
   "outputs": [
    {
     "data": {
      "text/plain": [
       "dtype('int64')"
      ]
     },
     "execution_count": 14,
     "metadata": {},
     "output_type": "execute_result"
    }
   ],
   "source": [
    "df[\"ApprovalFY\"]=df[\"ApprovalFY\"].astype(str).replace(\"'\",\"\",regex=True)\n",
    "df[\"ApprovalFY\"]=df[\"ApprovalFY\"].astype(str).replace(\"A\",\"\",regex=True)\n",
    "\n",
    "df[\"ApprovalFY\"]=df[\"ApprovalFY\"].astype(int)   # convert ApprovalFY dtype from object to int\n",
    "\n",
    "df[\"ApprovalFY\"].dtype"
   ]
  },
  {
   "cell_type": "code",
   "execution_count": 15,
   "id": "cd920557",
   "metadata": {},
   "outputs": [
    {
     "data": {
      "text/plain": [
       "0"
      ]
     },
     "execution_count": 15,
     "metadata": {},
     "output_type": "execute_result"
    }
   ],
   "source": [
    "df = df[(df['LowDoc']=='Y') | (df['LowDoc']=='N')]   # dropped all but Y/N records in LowDoc\n",
    "df['LowDoc'].isna().sum()"
   ]
  },
  {
   "cell_type": "code",
   "execution_count": 16,
   "id": "658d874d",
   "metadata": {},
   "outputs": [
    {
     "name": "stdout",
     "output_type": "stream",
     "text": [
      "0\n",
      "int64\n"
     ]
    }
   ],
   "source": [
    "df = df[(df['NewExist']==1) | (df['NewExist']==2)]   # dropped unspecified values (0) in NewExist\n",
    "df[\"NewExist\"]=df[\"NewExist\"].astype(int)\n",
    "\n",
    "print(df[\"NewExist\"].isna().sum())\n",
    "print(df[\"NewExist\"].dtype)"
   ]
  },
  {
   "cell_type": "markdown",
   "id": "3e0406e6",
   "metadata": {},
   "source": [
    "##### # Some of the fields that are considered flags already but aren't necessarily in a useable format right now. \n",
    "These include the NewExist, RevLineCr, LowDoc, and MIS_Status fields; some of which need fixing. \n",
    "##### "
   ]
  },
  {
   "cell_type": "code",
   "execution_count": 17,
   "id": "8c82a2bc",
   "metadata": {},
   "outputs": [
    {
     "data": {
      "text/plain": [
       "dtype('int64')"
      ]
     },
     "execution_count": 17,
     "metadata": {},
     "output_type": "execute_result"
    }
   ],
   "source": [
    "df['MIS_Status'].where(~(df[\"MIS_Status\"]=='P I F'), other=0, inplace=True)    # replace PIF as 0\n",
    "df['MIS_Status'].where(~(df[\"MIS_Status\"]=='CHGOFF'), other=1, inplace=True)   # replace CHGOFF as 1\n",
    "\n",
    "df[\"MIS_Status\"]=df[\"MIS_Status\"].astype(int)\n",
    "df[\"MIS_Status\"].dtype"
   ]
  },
  {
   "cell_type": "code",
   "execution_count": 18,
   "id": "b03c85ca",
   "metadata": {},
   "outputs": [
    {
     "data": {
      "text/plain": [
       "dtype('int64')"
      ]
     },
     "execution_count": 18,
     "metadata": {},
     "output_type": "execute_result"
    }
   ],
   "source": [
    "df['LowDoc'].where(~(df[\"LowDoc\"]=='N'), other=0, inplace=True)   # replace N as 0\n",
    "df['LowDoc'].where(~(df[\"LowDoc\"]=='Y'), other=1, inplace=True)   # replace Y as 1\n",
    "\n",
    "df[\"LowDoc\"]=df[\"LowDoc\"].astype(int)\n",
    "df[\"LowDoc\"].dtype"
   ]
  },
  {
   "cell_type": "markdown",
   "id": "95452de8",
   "metadata": {},
   "source": [
    "##### > We can now work to clean RevLineCr which has a large records (especially of 0) having unneccessary values"
   ]
  },
  {
   "cell_type": "code",
   "execution_count": 19,
   "id": "48343e5c",
   "metadata": {},
   "outputs": [
    {
     "data": {
      "text/plain": [
       "N    412142\n",
       "0    256725\n",
       "Y    198045\n",
       "T     15091\n",
       "1        22\n",
       "R        14\n",
       "`        11\n",
       "2         6\n",
       "C         2\n",
       "3         1\n",
       ",         1\n",
       "7         1\n",
       "A         1\n",
       "5         1\n",
       ".         1\n",
       "4         1\n",
       "-         1\n",
       "Q         1\n",
       "Name: RevLineCr, dtype: int64"
      ]
     },
     "execution_count": 19,
     "metadata": {},
     "output_type": "execute_result"
    }
   ],
   "source": [
    "df[\"RevLineCr\"].value_counts()"
   ]
  },
  {
   "cell_type": "code",
   "execution_count": 20,
   "id": "d71dcd36",
   "metadata": {},
   "outputs": [
    {
     "data": {
      "text/plain": [
       "N    412142\n",
       "0    256725\n",
       "Y    198045\n",
       "Name: RevLineCr, dtype: int64"
      ]
     },
     "execution_count": 20,
     "metadata": {},
     "output_type": "execute_result"
    }
   ],
   "source": [
    "df = df[(df['RevLineCr']=='Y') | (df['RevLineCr']=='N') | (df['RevLineCr']=='0')]\n",
    "df[\"RevLineCr\"].value_counts()   # dropped all garbage value of RevLineCr and left 0 as unknown factor"
   ]
  },
  {
   "cell_type": "code",
   "execution_count": 21,
   "id": "ec9d1f55",
   "metadata": {},
   "outputs": [
    {
     "data": {
      "text/plain": [
       "dtype('int64')"
      ]
     },
     "execution_count": 21,
     "metadata": {},
     "output_type": "execute_result"
    }
   ],
   "source": [
    "df['RevLineCr'].where(~(df[\"RevLineCr\"]=='N'), other=0, inplace=True)   # replace N as 0\n",
    "df['RevLineCr'].where(~(df[\"RevLineCr\"]=='Y'), other=1, inplace=True)   # replace Y as 1\n",
    "df['RevLineCr'].where(~(df[\"RevLineCr\"]==0), other=-1, inplace=True)    # replace 0 as -1\n",
    "\n",
    "df[\"RevLineCr\"]=df[\"RevLineCr\"].astype(int)\n",
    "df[\"RevLineCr\"].dtype"
   ]
  },
  {
   "cell_type": "markdown",
   "id": "6005af1f",
   "metadata": {},
   "source": [
    "##### > Convert ApprovalDate and DisbursementDate columns to datetime values"
   ]
  },
  {
   "cell_type": "code",
   "execution_count": 22,
   "id": "8d631cbb",
   "metadata": {},
   "outputs": [],
   "source": [
    "from datetime import date\n",
    "\n",
    "df[['ApprovalDate','DisbursementDate']]=df[['ApprovalDate','DisbursementDate']].apply(\n",
    "                                            lambda x: pd.to_datetime(x,errors = 'coerce'))"
   ]
  },
  {
   "cell_type": "markdown",
   "id": "2e698bf3",
   "metadata": {},
   "source": [
    "##### > Check if all missing values have been dealt with"
   ]
  },
  {
   "cell_type": "code",
   "execution_count": 23,
   "id": "7b5e6c46",
   "metadata": {},
   "outputs": [
    {
     "data": {
      "text/plain": [
       "LoanNr_ChkDgt        0\n",
       "Name                 0\n",
       "City                 0\n",
       "State                0\n",
       "Zip                  0\n",
       "Bank                 0\n",
       "BankState            0\n",
       "NAICS                0\n",
       "ApprovalDate         0\n",
       "ApprovalFY           0\n",
       "Term                 0\n",
       "NoEmp                0\n",
       "NewExist             0\n",
       "CreateJob            0\n",
       "RetainedJob          0\n",
       "FranchiseCode        0\n",
       "UrbanRural           0\n",
       "RevLineCr            0\n",
       "LowDoc               0\n",
       "DisbursementDate     0\n",
       "DisbursementGross    0\n",
       "BalanceGross         0\n",
       "MIS_Status           0\n",
       "ChgOffPrinGr         0\n",
       "GrAppv               0\n",
       "SBA_Appv             0\n",
       "dtype: int64"
      ]
     },
     "execution_count": 23,
     "metadata": {},
     "output_type": "execute_result"
    }
   ],
   "source": [
    "df.isna().sum()"
   ]
  },
  {
   "cell_type": "markdown",
   "id": "d61422c7",
   "metadata": {},
   "source": [
    "##### > Check whether all columns we manipulated have the right datatype"
   ]
  },
  {
   "cell_type": "code",
   "execution_count": 24,
   "id": "f00422e3",
   "metadata": {
    "scrolled": false
   },
   "outputs": [
    {
     "name": "stdout",
     "output_type": "stream",
     "text": [
      "<class 'pandas.core.frame.DataFrame'>\n",
      "Int64Index: 866912 entries, 0 to 899163\n",
      "Data columns (total 26 columns):\n",
      " #   Column             Non-Null Count   Dtype         \n",
      "---  ------             --------------   -----         \n",
      " 0   LoanNr_ChkDgt      866912 non-null  int64         \n",
      " 1   Name               866912 non-null  object        \n",
      " 2   City               866912 non-null  object        \n",
      " 3   State              866912 non-null  object        \n",
      " 4   Zip                866912 non-null  int64         \n",
      " 5   Bank               866912 non-null  object        \n",
      " 6   BankState          866912 non-null  object        \n",
      " 7   NAICS              866912 non-null  int64         \n",
      " 8   ApprovalDate       866912 non-null  datetime64[ns]\n",
      " 9   ApprovalFY         866912 non-null  int64         \n",
      " 10  Term               866912 non-null  int64         \n",
      " 11  NoEmp              866912 non-null  int64         \n",
      " 12  NewExist           866912 non-null  int64         \n",
      " 13  CreateJob          866912 non-null  int64         \n",
      " 14  RetainedJob        866912 non-null  int64         \n",
      " 15  FranchiseCode      866912 non-null  int64         \n",
      " 16  UrbanRural         866912 non-null  int64         \n",
      " 17  RevLineCr          866912 non-null  int64         \n",
      " 18  LowDoc             866912 non-null  int64         \n",
      " 19  DisbursementDate   866912 non-null  datetime64[ns]\n",
      " 20  DisbursementGross  866912 non-null  float64       \n",
      " 21  BalanceGross       866912 non-null  float64       \n",
      " 22  MIS_Status         866912 non-null  int64         \n",
      " 23  ChgOffPrinGr       866912 non-null  float64       \n",
      " 24  GrAppv             866912 non-null  float64       \n",
      " 25  SBA_Appv           866912 non-null  float64       \n",
      "dtypes: datetime64[ns](2), float64(5), int64(14), object(5)\n",
      "memory usage: 178.6+ MB\n"
     ]
    }
   ],
   "source": [
    "df.info()"
   ]
  },
  {
   "cell_type": "markdown",
   "id": "dd01d3ad",
   "metadata": {},
   "source": [
    "## 2. Feature Engineering"
   ]
  },
  {
   "cell_type": "markdown",
   "id": "82b300a9",
   "metadata": {},
   "source": [
    "##### > We have franchise codes which are unneccessary, we need only know whether a business is a franchise or not"
   ]
  },
  {
   "cell_type": "code",
   "execution_count": 25,
   "id": "31bacff5",
   "metadata": {},
   "outputs": [],
   "source": [
    "df.loc[(df['FranchiseCode'] <= 1),'Franchise'] = 0\n",
    "df.loc[(df['FranchiseCode'] > 1),'Franchise'] = 1\n",
    "\n",
    "df[\"Franchise\"]=df[\"Franchise\"].astype(int)      # Convert datatype of Franchise to int\n",
    "df.drop(columns=\"FranchiseCode\", inplace=True)   # Drop FranchiseCode since its of no particular use to us"
   ]
  },
  {
   "cell_type": "markdown",
   "id": "6d05d2fc",
   "metadata": {},
   "source": [
    "##### > Create a new column named \"Industry\" with the industry the NAICS code represents"
   ]
  },
  {
   "cell_type": "code",
   "execution_count": 26,
   "id": "1db1fba5",
   "metadata": {},
   "outputs": [],
   "source": [
    "df['Industry'] = df['NAICS'].astype('str').apply(lambda x: x[:2])   # Select only first 2 numbers of NAICS code\n",
    "\n",
    "df['Industry'] = df['Industry'].map({\n",
    "    '11': 'Ag/For/Fish/Hunt',\n",
    "    '21': 'Min/Quar/Oil_Gas_ext',\n",
    "    '22': 'Utilities',\n",
    "    '23': 'Construction',\n",
    "    '31': 'Manufacturing',\n",
    "    '32': 'Manufacturing',\n",
    "    '33': 'Manufacturing',\n",
    "    '42': 'Wholesale_trade',\n",
    "    '44': 'Retail_trade',\n",
    "    '45': 'Retail_trade',\n",
    "    '48': 'Trans/Ware',\n",
    "    '49': 'Trans/Ware',\n",
    "    '51': 'Information',\n",
    "    '52': 'Finance/Insurance',\n",
    "    '53': 'RE/Rental/Lease',\n",
    "    '54': 'Prof/Science/Tech',\n",
    "    '55': 'Mgmt_comp',\n",
    "    '56': 'Admin_sup/Waste_Mgmt_Rem',\n",
    "    '61': 'Educational',\n",
    "    '62': 'Healthcare/Social_assist',\n",
    "    '71': 'Arts/Entertain/Rec',\n",
    "    '72': 'Accom/Food_serv',\n",
    "    '81': 'Other_no_pub',\n",
    "    '92': 'Public_Admin'\n",
    "})   # Map the approprate industry to each record based on the first two digits of the NAICS code\n",
    "\n",
    "df.dropna(subset=['Industry'], inplace=True)   # Remove records where Industry is NaN (NAICS code was 0)\n",
    "df.drop(columns=\"NAICS\", inplace=True)         # Drop NAICS since its of no particular use to us"
   ]
  },
  {
   "cell_type": "markdown",
   "id": "a41f7d04",
   "metadata": {},
   "source": [
    "##### > Feature showing the guaranteed amount as percentage of the gross loan amount"
   ]
  },
  {
   "cell_type": "code",
   "execution_count": 27,
   "id": "1ae9ef9c",
   "metadata": {},
   "outputs": [],
   "source": [
    "df['SBA_ApvPct']=round(df['SBA_Appv']/df['GrAppv'],3)"
   ]
  },
  {
   "cell_type": "markdown",
   "id": "50b51b1e",
   "metadata": {},
   "source": [
    "##### > Feature for loans backed by Real Estate (loans with a term of at least 20 years)"
   ]
  },
  {
   "cell_type": "code",
   "execution_count": 28,
   "id": "b54fccd9",
   "metadata": {},
   "outputs": [],
   "source": [
    "df['RealEstate']=np.where(df['Term']>=240,1,0)"
   ]
  },
  {
   "cell_type": "markdown",
   "id": "5b3725fb",
   "metadata": {},
   "source": [
    "##### > Feature for loans active during the Great Recession (2007-2009)"
   ]
  },
  {
   "cell_type": "code",
   "execution_count": 29,
   "id": "8e5ceece",
   "metadata": {},
   "outputs": [],
   "source": [
    "df['DisbursementFY']=df['DisbursementDate'].map(lambda x: x.year)   # find year of disbursement\n",
    "\n",
    "df['GreatRecession']=np.where(((2007 <= df['DisbursementFY']) & (df['DisbursementFY'] <= 2009)) | \n",
    "                        ((df['DisbursementFY'] < 2007) & (df['DisbursementFY'] + (df['Term']/12) >= 2007)), 1, 0)"
   ]
  },
  {
   "cell_type": "markdown",
   "id": "7472762a",
   "metadata": {},
   "source": [
    "##### > Select only records with a disbursement year through 2010"
   ]
  },
  {
   "cell_type": "code",
   "execution_count": 30,
   "id": "a38bb713",
   "metadata": {},
   "outputs": [],
   "source": [
    "df=df[df['DisbursementFY']<=2010]"
   ]
  },
  {
   "cell_type": "markdown",
   "id": "b790341a",
   "metadata": {},
   "source": [
    "##### # According to dataset document: \n",
    "An emphasis is placed on the default rates of loans with a disbursement date through 2010. We chose this time period for two reasons. We want to account for variation due to the Great Recession (December 2007 to June 2009); so loans disbursed before, during, and after this time frame are needed. Secondly, we restrict the time frame to loans by  excluding those disbursed after 2010 due to the fact the term of a loan is frequently 5 or more years."
   ]
  },
  {
   "cell_type": "markdown",
   "id": "8d87276a",
   "metadata": {},
   "source": [
    "##### > We will now drop columns that are not of use to us"
   ]
  },
  {
   "cell_type": "code",
   "execution_count": 31,
   "id": "7eb8f71d",
   "metadata": {},
   "outputs": [],
   "source": [
    "df.drop(columns=['LoanNr_ChkDgt','Name','City','Zip','Bank','BankState', 'NoEmp', 'CreateJob', 'RetainedJob',\n",
    "                 'ChgOffPrinGr','ApprovalDate','DisbursementDate'], inplace=True)"
   ]
  },
  {
   "cell_type": "markdown",
   "id": "24b0ad69",
   "metadata": {},
   "source": [
    "##### # The columns I dropped and the reason why is stated below -\n",
    "\n",
    "LoanNr_ChkDgt, Name, City, Zip, Bank, BankState, NoEmp, CreateJob, RetainedJob - provide no value to the actual analysis\n",
    "\n",
    "ApprovalDate -  unneccessary as we already have ApprovalFY\n",
    "\n",
    "DisbursementDate - replaced by DisbursementFY\n",
    "\n",
    "ChgOffPrinGr - amount not of use to us, we already have MIS_Status\n",
    "\n",
    "We dont drop State as we want to check the effect of demograpphy on the loan default"
   ]
  },
  {
   "cell_type": "markdown",
   "id": "1c1f87f1",
   "metadata": {},
   "source": [
    "## 3. Outlier Detection & Removal"
   ]
  },
  {
   "cell_type": "markdown",
   "id": "7af98663",
   "metadata": {},
   "source": [
    "##### > Let's check the Gross Disbursement column"
   ]
  },
  {
   "cell_type": "code",
   "execution_count": 32,
   "id": "6a224f60",
   "metadata": {},
   "outputs": [],
   "source": [
    "# import plotly.express as px\n",
    "\n",
    "# for i in df:\n",
    "#     fig = px.histogram(df, x=i, color_discrete_sequence=px.colors.qualitative.Antique, text_auto=True)\n",
    "#     fig.show()"
   ]
  },
  {
   "cell_type": "markdown",
   "id": "16b0993a",
   "metadata": {},
   "source": [
    "### Author's note:\n",
    "\n",
    "_**Uncomment the above code while running this script. It has been marked as comment at the moment since the visualizations are making the file larger than 200MB and I cannot upload a file bigger than 25MB on GitHub.**_"
   ]
  },
  {
   "cell_type": "markdown",
   "id": "a71bedda",
   "metadata": {},
   "source": [
    "##### # Looking at these histograms, here are some attributes we see that need attention -\n",
    "\n",
    "1. Term should not be more than 300 months (25 years)\n",
    "2. DisbursementGross should not be more than 2.0M\n",
    "3. GrAppv & SBA_Appv should not be more than 0.5M"
   ]
  },
  {
   "cell_type": "code",
   "execution_count": 33,
   "id": "eb38e8cc",
   "metadata": {},
   "outputs": [
    {
     "name": "stdout",
     "output_type": "stream",
     "text": [
      "Max Term: 300\n",
      "Max Disbursement Gross: 1999537.0\n",
      "Max Gross Approved: 500000.0\n",
      "Max SBA Approved : 500000.0\n"
     ]
    }
   ],
   "source": [
    "df = df[df['Term'] <= 300]\n",
    "df = df[df['DisbursementGross'] <= 2000000]\n",
    "df = df[df['GrAppv'] <= 500000]\n",
    "df = df[df['SBA_Appv'] <= 500000]\n",
    "\n",
    "print(\"Max Term:\",df['Term'].max())\n",
    "print(\"Max Disbursement Gross:\",df['DisbursementGross'].max())\n",
    "print(\"Max Gross Approved:\",df['GrAppv'].max())\n",
    "print(\"Max SBA Approved :\",df['SBA_Appv'].max())"
   ]
  },
  {
   "cell_type": "markdown",
   "id": "bbb223eb",
   "metadata": {},
   "source": [
    "## 4. Exploratory Data Analysis"
   ]
  },
  {
   "cell_type": "code",
   "execution_count": 34,
   "id": "e9db0f7b",
   "metadata": {},
   "outputs": [
    {
     "data": {
      "text/html": [
       "<div>\n",
       "<style scoped>\n",
       "    .dataframe tbody tr th:only-of-type {\n",
       "        vertical-align: middle;\n",
       "    }\n",
       "\n",
       "    .dataframe tbody tr th {\n",
       "        vertical-align: top;\n",
       "    }\n",
       "\n",
       "    .dataframe thead th {\n",
       "        text-align: right;\n",
       "    }\n",
       "</style>\n",
       "<table border=\"1\" class=\"dataframe\">\n",
       "  <thead>\n",
       "    <tr style=\"text-align: right;\">\n",
       "      <th></th>\n",
       "      <th>ApprovalFY</th>\n",
       "      <th>Term</th>\n",
       "      <th>NewExist</th>\n",
       "      <th>UrbanRural</th>\n",
       "      <th>RevLineCr</th>\n",
       "      <th>LowDoc</th>\n",
       "      <th>DisbursementGross</th>\n",
       "      <th>BalanceGross</th>\n",
       "      <th>MIS_Status</th>\n",
       "      <th>GrAppv</th>\n",
       "      <th>SBA_Appv</th>\n",
       "      <th>Franchise</th>\n",
       "      <th>SBA_ApvPct</th>\n",
       "      <th>RealEstate</th>\n",
       "      <th>DisbursementFY</th>\n",
       "      <th>GreatRecession</th>\n",
       "    </tr>\n",
       "  </thead>\n",
       "  <tbody>\n",
       "    <tr>\n",
       "      <th>count</th>\n",
       "      <td>590759.000000</td>\n",
       "      <td>590759.000000</td>\n",
       "      <td>590759.000000</td>\n",
       "      <td>590759.000000</td>\n",
       "      <td>590759.000000</td>\n",
       "      <td>590759.000000</td>\n",
       "      <td>5.907590e+05</td>\n",
       "      <td>590759.000000</td>\n",
       "      <td>590759.000000</td>\n",
       "      <td>590759.000000</td>\n",
       "      <td>590759.000000</td>\n",
       "      <td>590759.000000</td>\n",
       "      <td>590759.000000</td>\n",
       "      <td>590759.000000</td>\n",
       "      <td>590759.000000</td>\n",
       "      <td>590759.000000</td>\n",
       "    </tr>\n",
       "    <tr>\n",
       "      <th>mean</th>\n",
       "      <td>2002.795235</td>\n",
       "      <td>93.610599</td>\n",
       "      <td>1.286127</td>\n",
       "      <td>0.933296</td>\n",
       "      <td>-0.073201</td>\n",
       "      <td>0.111887</td>\n",
       "      <td>1.208712e+05</td>\n",
       "      <td>0.489391</td>\n",
       "      <td>0.212584</td>\n",
       "      <td>108624.543525</td>\n",
       "      <td>80654.766265</td>\n",
       "      <td>0.047788</td>\n",
       "      <td>0.671666</td>\n",
       "      <td>0.100122</td>\n",
       "      <td>2002.801152</td>\n",
       "      <td>0.754172</td>\n",
       "    </tr>\n",
       "    <tr>\n",
       "      <th>std</th>\n",
       "      <td>4.805215</td>\n",
       "      <td>65.923339</td>\n",
       "      <td>0.451950</td>\n",
       "      <td>0.595907</td>\n",
       "      <td>0.828321</td>\n",
       "      <td>0.315227</td>\n",
       "      <td>1.265794e+05</td>\n",
       "      <td>185.899854</td>\n",
       "      <td>0.409136</td>\n",
       "      <td>113772.656972</td>\n",
       "      <td>94036.366765</td>\n",
       "      <td>0.213317</td>\n",
       "      <td>0.174654</td>\n",
       "      <td>0.300163</td>\n",
       "      <td>4.737494</td>\n",
       "      <td>0.430577</td>\n",
       "    </tr>\n",
       "    <tr>\n",
       "      <th>min</th>\n",
       "      <td>1984.000000</td>\n",
       "      <td>0.000000</td>\n",
       "      <td>1.000000</td>\n",
       "      <td>0.000000</td>\n",
       "      <td>-1.000000</td>\n",
       "      <td>0.000000</td>\n",
       "      <td>4.000000e+03</td>\n",
       "      <td>0.000000</td>\n",
       "      <td>0.000000</td>\n",
       "      <td>1000.000000</td>\n",
       "      <td>500.000000</td>\n",
       "      <td>0.000000</td>\n",
       "      <td>0.050000</td>\n",
       "      <td>0.000000</td>\n",
       "      <td>1984.000000</td>\n",
       "      <td>0.000000</td>\n",
       "    </tr>\n",
       "    <tr>\n",
       "      <th>25%</th>\n",
       "      <td>2001.000000</td>\n",
       "      <td>60.000000</td>\n",
       "      <td>1.000000</td>\n",
       "      <td>1.000000</td>\n",
       "      <td>-1.000000</td>\n",
       "      <td>0.000000</td>\n",
       "      <td>3.500000e+04</td>\n",
       "      <td>0.000000</td>\n",
       "      <td>0.000000</td>\n",
       "      <td>25000.000000</td>\n",
       "      <td>15000.000000</td>\n",
       "      <td>0.000000</td>\n",
       "      <td>0.500000</td>\n",
       "      <td>0.000000</td>\n",
       "      <td>2001.000000</td>\n",
       "      <td>1.000000</td>\n",
       "    </tr>\n",
       "    <tr>\n",
       "      <th>50%</th>\n",
       "      <td>2004.000000</td>\n",
       "      <td>84.000000</td>\n",
       "      <td>1.000000</td>\n",
       "      <td>1.000000</td>\n",
       "      <td>0.000000</td>\n",
       "      <td>0.000000</td>\n",
       "      <td>7.504400e+04</td>\n",
       "      <td>0.000000</td>\n",
       "      <td>0.000000</td>\n",
       "      <td>60000.000000</td>\n",
       "      <td>40000.000000</td>\n",
       "      <td>0.000000</td>\n",
       "      <td>0.750000</td>\n",
       "      <td>0.000000</td>\n",
       "      <td>2004.000000</td>\n",
       "      <td>1.000000</td>\n",
       "    </tr>\n",
       "    <tr>\n",
       "      <th>75%</th>\n",
       "      <td>2006.000000</td>\n",
       "      <td>96.000000</td>\n",
       "      <td>2.000000</td>\n",
       "      <td>1.000000</td>\n",
       "      <td>1.000000</td>\n",
       "      <td>0.000000</td>\n",
       "      <td>1.577935e+05</td>\n",
       "      <td>0.000000</td>\n",
       "      <td>0.000000</td>\n",
       "      <td>150000.000000</td>\n",
       "      <td>115600.000000</td>\n",
       "      <td>0.000000</td>\n",
       "      <td>0.850000</td>\n",
       "      <td>0.000000</td>\n",
       "      <td>2006.000000</td>\n",
       "      <td>1.000000</td>\n",
       "    </tr>\n",
       "    <tr>\n",
       "      <th>max</th>\n",
       "      <td>2011.000000</td>\n",
       "      <td>300.000000</td>\n",
       "      <td>2.000000</td>\n",
       "      <td>2.000000</td>\n",
       "      <td>1.000000</td>\n",
       "      <td>1.000000</td>\n",
       "      <td>1.999537e+06</td>\n",
       "      <td>96908.000000</td>\n",
       "      <td>1.000000</td>\n",
       "      <td>500000.000000</td>\n",
       "      <td>500000.000000</td>\n",
       "      <td>1.000000</td>\n",
       "      <td>1.000000</td>\n",
       "      <td>1.000000</td>\n",
       "      <td>2010.000000</td>\n",
       "      <td>1.000000</td>\n",
       "    </tr>\n",
       "  </tbody>\n",
       "</table>\n",
       "</div>"
      ],
      "text/plain": [
       "          ApprovalFY           Term       NewExist     UrbanRural  \\\n",
       "count  590759.000000  590759.000000  590759.000000  590759.000000   \n",
       "mean     2002.795235      93.610599       1.286127       0.933296   \n",
       "std         4.805215      65.923339       0.451950       0.595907   \n",
       "min      1984.000000       0.000000       1.000000       0.000000   \n",
       "25%      2001.000000      60.000000       1.000000       1.000000   \n",
       "50%      2004.000000      84.000000       1.000000       1.000000   \n",
       "75%      2006.000000      96.000000       2.000000       1.000000   \n",
       "max      2011.000000     300.000000       2.000000       2.000000   \n",
       "\n",
       "           RevLineCr         LowDoc  DisbursementGross   BalanceGross  \\\n",
       "count  590759.000000  590759.000000       5.907590e+05  590759.000000   \n",
       "mean       -0.073201       0.111887       1.208712e+05       0.489391   \n",
       "std         0.828321       0.315227       1.265794e+05     185.899854   \n",
       "min        -1.000000       0.000000       4.000000e+03       0.000000   \n",
       "25%        -1.000000       0.000000       3.500000e+04       0.000000   \n",
       "50%         0.000000       0.000000       7.504400e+04       0.000000   \n",
       "75%         1.000000       0.000000       1.577935e+05       0.000000   \n",
       "max         1.000000       1.000000       1.999537e+06   96908.000000   \n",
       "\n",
       "          MIS_Status         GrAppv       SBA_Appv      Franchise  \\\n",
       "count  590759.000000  590759.000000  590759.000000  590759.000000   \n",
       "mean        0.212584  108624.543525   80654.766265       0.047788   \n",
       "std         0.409136  113772.656972   94036.366765       0.213317   \n",
       "min         0.000000    1000.000000     500.000000       0.000000   \n",
       "25%         0.000000   25000.000000   15000.000000       0.000000   \n",
       "50%         0.000000   60000.000000   40000.000000       0.000000   \n",
       "75%         0.000000  150000.000000  115600.000000       0.000000   \n",
       "max         1.000000  500000.000000  500000.000000       1.000000   \n",
       "\n",
       "          SBA_ApvPct     RealEstate  DisbursementFY  GreatRecession  \n",
       "count  590759.000000  590759.000000   590759.000000   590759.000000  \n",
       "mean        0.671666       0.100122     2002.801152        0.754172  \n",
       "std         0.174654       0.300163        4.737494        0.430577  \n",
       "min         0.050000       0.000000     1984.000000        0.000000  \n",
       "25%         0.500000       0.000000     2001.000000        1.000000  \n",
       "50%         0.750000       0.000000     2004.000000        1.000000  \n",
       "75%         0.850000       0.000000     2006.000000        1.000000  \n",
       "max         1.000000       1.000000     2010.000000        1.000000  "
      ]
     },
     "execution_count": 34,
     "metadata": {},
     "output_type": "execute_result"
    }
   ],
   "source": [
    "df.describe()"
   ]
  },
  {
   "cell_type": "markdown",
   "id": "1c2f3357",
   "metadata": {},
   "source": [
    "##### # INSIGHTS:\n",
    "\n",
    " 1. Mean of SBA Approved Percentage is about 60% of total loan amount needed\n",
    " 2. Most loans were disbursed between 1997-2008 (approval FY)\n",
    " 3. Loans backed by Real Estate are about 10% of total loans\n",
    " 4. An average of 75% loans were active during the Great Recession (2007-2009)\n",
    " 5. Only about 5% of loans were given to Franchises, while 27.78% loans were given to new businesses\n",
    " 6. More than 90% of loans were given to businesses in an Urban area\n",
    " 7. Average term of loan was around 8 years with a std. dev. of 5 years\n",
    " 8. More than 10% of loans sanctioned were LowDoc program (1 page loan doc for amount <150k)\n",
    " 9. Average loan Gross Disbursement was around 120k with under 75% of them being around 160k"
   ]
  },
  {
   "cell_type": "code",
   "execution_count": 35,
   "id": "21f6dc2c",
   "metadata": {},
   "outputs": [
    {
     "data": {
      "image/png": "[encoded data removed]",
      "text/plain": [
       "<Figure size 1080x504 with 1 Axes>"
      ]
     },
     "metadata": {
      "needs_background": "light"
     },
     "output_type": "display_data"
    }
   ],
   "source": [
    "plt.figure(figsize=(15,7))\n",
    "sns.histplot(df.GrAppv, color=\"green\", kde=False)\n",
    "plt.ylabel('Density')\n",
    "plt.title('Distribution of Approved ammount')\n",
    "plt.show()"
   ]
  },
  {
   "cell_type": "markdown",
   "id": "4e76b91c",
   "metadata": {},
   "source": [
    "##### # Observation - This plot shows the right skewedness of GrAppv, so we fix the skewness using a log function"
   ]
  },
  {
   "cell_type": "code",
   "execution_count": 36,
   "id": "fbfebd45",
   "metadata": {},
   "outputs": [],
   "source": [
    "df['GrAppv']=np.log(df['GrAppv'])"
   ]
  },
  {
   "cell_type": "markdown",
   "id": "6c137453",
   "metadata": {},
   "source": [
    "## 5. Data Visualization"
   ]
  },
  {
   "cell_type": "code",
   "execution_count": 37,
   "id": "e4ce4e5b",
   "metadata": {},
   "outputs": [
    {
     "data": {
      "text/plain": [
       "Text(0.5, 1.0, 'Average Term vs MIS_Status')"
      ]
     },
     "execution_count": 37,
     "metadata": {},
     "output_type": "execute_result"
    },
    {
     "data": {
      "image/png": "[encoded data removed]",
      "text/plain": [
       "<Figure size 432x288 with 1 Axes>"
      ]
     },
     "metadata": {
      "needs_background": "light"
     },
     "output_type": "display_data"
    }
   ],
   "source": [
    "sns.barplot(x='MIS_Status', y='Term', data=df)\n",
    "plt.title('Average Term vs MIS_Status')"
   ]
  },
  {
   "cell_type": "code",
   "execution_count": 38,
   "id": "311d96ce",
   "metadata": {},
   "outputs": [
    {
     "data": {
      "text/plain": [
       "Text(0.5, 1.0, 'Average DisbursementGross vs MIS_Status')"
      ]
     },
     "execution_count": 38,
     "metadata": {},
     "output_type": "execute_result"
    },
    {
     "data": {
      "image/png": "[encoded data removed]",
      "text/plain": [
       "<Figure size 432x288 with 1 Axes>"
      ]
     },
     "metadata": {
      "needs_background": "light"
     },
     "output_type": "display_data"
    }
   ],
   "source": [
    "sns.barplot(x='MIS_Status', y='DisbursementGross', data=df)\n",
    "plt.title('Average DisbursementGross vs MIS_Status')"
   ]
  },
  {
   "cell_type": "code",
   "execution_count": 39,
   "id": "1f63b79b",
   "metadata": {},
   "outputs": [
    {
     "data": {
      "text/plain": [
       "Text(0.5, 1.0, 'Average GrAppv vs MIS_Status')"
      ]
     },
     "execution_count": 39,
     "metadata": {},
     "output_type": "execute_result"
    },
    {
     "data": {
      "image/png": "[encoded data removed]",
      "text/plain": [
       "<Figure size 432x288 with 1 Axes>"
      ]
     },
     "metadata": {
      "needs_background": "light"
     },
     "output_type": "display_data"
    }
   ],
   "source": [
    "sns.barplot(x='MIS_Status', y='GrAppv', data=df)\n",
    "plt.title('Average GrAppv vs MIS_Status')"
   ]
  },
  {
   "cell_type": "code",
   "execution_count": 40,
   "id": "3656cc95",
   "metadata": {},
   "outputs": [
    {
     "data": {
      "text/plain": [
       "Text(0.5, 1.0, 'Average SBA_Appv vs MIS_Status')"
      ]
     },
     "execution_count": 40,
     "metadata": {},
     "output_type": "execute_result"
    },
    {
     "data": {
      "image/png": "[encoded data removed]",
      "text/plain": [
       "<Figure size 432x288 with 1 Axes>"
      ]
     },
     "metadata": {
      "needs_background": "light"
     },
     "output_type": "display_data"
    }
   ],
   "source": [
    "sns.barplot(x='MIS_Status', y='SBA_Appv', data=df)\n",
    "plt.title('Average SBA_Appv vs MIS_Status')"
   ]
  },
  {
   "cell_type": "code",
   "execution_count": 41,
   "id": "5b3d2c10",
   "metadata": {},
   "outputs": [
    {
     "data": {
      "image/png": "[encoded data removed]",
      "text/plain": [
       "<Figure size 1800x720 with 2 Axes>"
      ]
     },
     "metadata": {
      "needs_background": "light"
     },
     "output_type": "display_data"
    }
   ],
   "source": [
    "# Total/Average disbursed loan amount by industry\n",
    "# Create a groupby object on Industry for use in visualization\n",
    "industry_group = df.groupby(['Industry'])\n",
    "\n",
    "# Data frames based on groupby by Industry looking at aggregate and average values\n",
    "df_industrySum = industry_group.sum().sort_values('DisbursementGross', ascending=False)\n",
    "df_industryAve = industry_group.mean().sort_values('DisbursementGross', ascending=False)\n",
    "\n",
    "# Establish figure for placing bar charts side-by-side\n",
    "fig = plt.figure(figsize=(25, 10))\n",
    "\n",
    "# Add subplots to figure to build 1x2 grid and specify position of each subplot\n",
    "ax1 = fig.add_subplot(1, 2, 1)\n",
    "ax2 = fig.add_subplot(1, 2, 2)\n",
    "\n",
    "# ______ Bar chart 1 = Gross SBA Loan Disbursement by Industry ______\n",
    "\n",
    "ax1.bar(df_industrySum.index, df_industrySum['DisbursementGross'] / 1000000000)\n",
    "ax1.set_xticklabels(df_industrySum.index, rotation=30, horizontalalignment='right', fontsize=10)\n",
    "\n",
    "ax1.set_title('Gross SBA Loan Disbursement by Industry from 1984-2010', fontsize=15)\n",
    "ax1.set_xlabel('Industry')\n",
    "ax1.set_ylabel('Gross Loan Disbursement (Billions)')\n",
    "\n",
    "# ______ Bar chart 2 = Average SBA Loan Disbursement by Industry ______\n",
    "\n",
    "ax2.bar(df_industryAve.index, df_industryAve['DisbursementGross'])\n",
    "ax2.set_xticklabels(df_industryAve.index, rotation=30, horizontalalignment='right', fontsize=10)\n",
    "\n",
    "ax2.set_title('Average SBA Loan Disbursement by Industry from 1984-2010', fontsize=15)\n",
    "ax2.set_xlabel('Industry')\n",
    "ax2.set_ylabel('Average Loan Disbursement')\n",
    "\n",
    "plt.show()"
   ]
  },
  {
   "cell_type": "markdown",
   "id": "95a44d0e",
   "metadata": {},
   "source": [
    "#### > Loans categorized by Industry and State"
   ]
  },
  {
   "cell_type": "code",
   "execution_count": 42,
   "id": "eadf775e",
   "metadata": {
    "scrolled": false
   },
   "outputs": [
    {
     "data": {
      "image/png": "[encoded data removed]",
      "text/plain": [
       "<Figure size 1080x720 with 2 Axes>"
      ]
     },
     "metadata": {
      "needs_background": "light"
     },
     "output_type": "display_data"
    }
   ],
   "source": [
    "# Paid in full and defaulted loans\n",
    "\n",
    "fig3 = plt.figure(figsize=(15, 10))\n",
    "\n",
    "ax1a = plt.subplot(2, 1, 1)\n",
    "ax2a = plt.subplot(2, 1, 2)\n",
    "\n",
    "# Function for creating stacked bar charts grouped by desired column\n",
    "# df = original data frame, col = x-axis grouping, stack_col = column to show stacked values\n",
    "# Essentially acts as a stacked histogram when stack_col is a flag variable\n",
    "\n",
    "def stacked_setup(df, col, axes, stack_col='MIS_Status'):\n",
    "    data = df.groupby([col, stack_col])[col].count().unstack(stack_col)\n",
    "    data.fillna(0)\n",
    "\n",
    "    axes.bar(data.index, data[1], label='Default')\n",
    "    axes.bar(data.index, data[0], bottom=data[1], label='Paid in full')\n",
    "\n",
    "\n",
    "# ______ Number of Paid in full and defaulted loans by INDUSTRY ______\n",
    "\n",
    "stacked_setup(df=df, col='Industry', axes=ax1a)\n",
    "ax1a.set_xticklabels(df.groupby(['Industry', 'MIS_Status'])['Industry'].count().unstack('MIS_Status').index,\n",
    "                     rotation=35, horizontalalignment='right', fontsize=10)\n",
    "\n",
    "ax1a.set_title('Number of PIF/Defaulted Loans by Industry from 1984-2010', fontsize=15)\n",
    "ax1a.set_xlabel('Industry')\n",
    "ax1a.set_ylabel('Number of PIF/Defaulted Loans')\n",
    "ax1a.legend()\n",
    "\n",
    "# ______ Number of Paid in full and defaulted loans by STATE ______\n",
    "\n",
    "stacked_setup(df=df, col='State', axes=ax2a)\n",
    "\n",
    "ax2a.set_title('Number of PIF/Defaulted Loans by State from 1984-2010', fontsize=15)\n",
    "ax2a.set_xlabel('State')\n",
    "ax2a.set_ylabel('Number of PIF/Defaulted Loans')\n",
    "ax2a.legend()\n",
    "\n",
    "plt.tight_layout()\n",
    "plt.show()"
   ]
  },
  {
   "cell_type": "markdown",
   "id": "24e2c1bc",
   "metadata": {},
   "source": [
    "##### > Default percentage by Industry"
   ]
  },
  {
   "cell_type": "code",
   "execution_count": 43,
   "id": "16f190f7",
   "metadata": {},
   "outputs": [
    {
     "data": {
      "text/html": [
       "<div>\n",
       "<style scoped>\n",
       "    .dataframe tbody tr th:only-of-type {\n",
       "        vertical-align: middle;\n",
       "    }\n",
       "\n",
       "    .dataframe tbody tr th {\n",
       "        vertical-align: top;\n",
       "    }\n",
       "\n",
       "    .dataframe thead th {\n",
       "        text-align: right;\n",
       "    }\n",
       "</style>\n",
       "<table border=\"1\" class=\"dataframe\">\n",
       "  <thead>\n",
       "    <tr style=\"text-align: right;\">\n",
       "      <th>MIS_Status</th>\n",
       "      <th>0</th>\n",
       "      <th>1</th>\n",
       "      <th>Def_Percent</th>\n",
       "    </tr>\n",
       "    <tr>\n",
       "      <th>Industry</th>\n",
       "      <th></th>\n",
       "      <th></th>\n",
       "      <th></th>\n",
       "    </tr>\n",
       "  </thead>\n",
       "  <tbody>\n",
       "    <tr>\n",
       "      <th>Accom/Food_serv</th>\n",
       "      <td>41580</td>\n",
       "      <td>13205</td>\n",
       "      <td>0.241033</td>\n",
       "    </tr>\n",
       "    <tr>\n",
       "      <th>Admin_sup/Waste_Mgmt_Rem</th>\n",
       "      <td>22226</td>\n",
       "      <td>6806</td>\n",
       "      <td>0.234431</td>\n",
       "    </tr>\n",
       "    <tr>\n",
       "      <th>Ag/For/Fish/Hunt</th>\n",
       "      <td>6540</td>\n",
       "      <td>561</td>\n",
       "      <td>0.079003</td>\n",
       "    </tr>\n",
       "    <tr>\n",
       "      <th>Arts/Entertain/Rec</th>\n",
       "      <td>9309</td>\n",
       "      <td>2660</td>\n",
       "      <td>0.222241</td>\n",
       "    </tr>\n",
       "    <tr>\n",
       "      <th>Construction</th>\n",
       "      <td>44179</td>\n",
       "      <td>13913</td>\n",
       "      <td>0.239499</td>\n",
       "    </tr>\n",
       "    <tr>\n",
       "      <th>Educational</th>\n",
       "      <td>4154</td>\n",
       "      <td>1393</td>\n",
       "      <td>0.251127</td>\n",
       "    </tr>\n",
       "    <tr>\n",
       "      <th>Finance/Insurance</th>\n",
       "      <td>5804</td>\n",
       "      <td>2461</td>\n",
       "      <td>0.297762</td>\n",
       "    </tr>\n",
       "    <tr>\n",
       "      <th>Healthcare/Social_assist</th>\n",
       "      <td>41363</td>\n",
       "      <td>5008</td>\n",
       "      <td>0.107999</td>\n",
       "    </tr>\n",
       "    <tr>\n",
       "      <th>Information</th>\n",
       "      <td>7290</td>\n",
       "      <td>2575</td>\n",
       "      <td>0.261024</td>\n",
       "    </tr>\n",
       "    <tr>\n",
       "      <th>Manufacturing</th>\n",
       "      <td>44616</td>\n",
       "      <td>8899</td>\n",
       "      <td>0.166290</td>\n",
       "    </tr>\n",
       "    <tr>\n",
       "      <th>Mgmt_comp</th>\n",
       "      <td>172</td>\n",
       "      <td>24</td>\n",
       "      <td>0.122449</td>\n",
       "    </tr>\n",
       "    <tr>\n",
       "      <th>Min/Quar/Oil_Gas_ext</th>\n",
       "      <td>1330</td>\n",
       "      <td>130</td>\n",
       "      <td>0.089041</td>\n",
       "    </tr>\n",
       "    <tr>\n",
       "      <th>Other_no_pub</th>\n",
       "      <td>51033</td>\n",
       "      <td>12841</td>\n",
       "      <td>0.201036</td>\n",
       "    </tr>\n",
       "    <tr>\n",
       "      <th>Prof/Science/Tech</th>\n",
       "      <td>47277</td>\n",
       "      <td>11627</td>\n",
       "      <td>0.197389</td>\n",
       "    </tr>\n",
       "    <tr>\n",
       "      <th>Public_Admin</th>\n",
       "      <td>179</td>\n",
       "      <td>32</td>\n",
       "      <td>0.151659</td>\n",
       "    </tr>\n",
       "    <tr>\n",
       "      <th>RE/Rental/Lease</th>\n",
       "      <td>8118</td>\n",
       "      <td>3554</td>\n",
       "      <td>0.304489</td>\n",
       "    </tr>\n",
       "    <tr>\n",
       "      <th>Retail_trade</th>\n",
       "      <td>84709</td>\n",
       "      <td>26101</td>\n",
       "      <td>0.235547</td>\n",
       "    </tr>\n",
       "    <tr>\n",
       "      <th>Trans/Ware</th>\n",
       "      <td>14017</td>\n",
       "      <td>5382</td>\n",
       "      <td>0.277437</td>\n",
       "    </tr>\n",
       "    <tr>\n",
       "      <th>Utilities</th>\n",
       "      <td>487</td>\n",
       "      <td>87</td>\n",
       "      <td>0.151568</td>\n",
       "    </tr>\n",
       "    <tr>\n",
       "      <th>Wholesale_trade</th>\n",
       "      <td>30790</td>\n",
       "      <td>8327</td>\n",
       "      <td>0.212874</td>\n",
       "    </tr>\n",
       "  </tbody>\n",
       "</table>\n",
       "</div>"
      ],
      "text/plain": [
       "MIS_Status                    0      1  Def_Percent\n",
       "Industry                                           \n",
       "Accom/Food_serv           41580  13205     0.241033\n",
       "Admin_sup/Waste_Mgmt_Rem  22226   6806     0.234431\n",
       "Ag/For/Fish/Hunt           6540    561     0.079003\n",
       "Arts/Entertain/Rec         9309   2660     0.222241\n",
       "Construction              44179  13913     0.239499\n",
       "Educational                4154   1393     0.251127\n",
       "Finance/Insurance          5804   2461     0.297762\n",
       "Healthcare/Social_assist  41363   5008     0.107999\n",
       "Information                7290   2575     0.261024\n",
       "Manufacturing             44616   8899     0.166290\n",
       "Mgmt_comp                   172     24     0.122449\n",
       "Min/Quar/Oil_Gas_ext       1330    130     0.089041\n",
       "Other_no_pub              51033  12841     0.201036\n",
       "Prof/Science/Tech         47277  11627     0.197389\n",
       "Public_Admin                179     32     0.151659\n",
       "RE/Rental/Lease            8118   3554     0.304489\n",
       "Retail_trade              84709  26101     0.235547\n",
       "Trans/Ware                14017   5382     0.277437\n",
       "Utilities                   487     87     0.151568\n",
       "Wholesale_trade           30790   8327     0.212874"
      ]
     },
     "execution_count": 43,
     "metadata": {},
     "output_type": "execute_result"
    }
   ],
   "source": [
    "def_ind = df.groupby(['Industry', 'MIS_Status'])['Industry'].count().unstack('MIS_Status')\n",
    "def_ind['Def_Percent'] = def_ind[1]/(def_ind[1] + def_ind[0])\n",
    "def_ind"
   ]
  },
  {
   "cell_type": "markdown",
   "id": "e93c6432",
   "metadata": {},
   "source": [
    "##### > Check Default percentage by State"
   ]
  },
  {
   "cell_type": "code",
   "execution_count": 44,
   "id": "8d0a2578",
   "metadata": {
    "scrolled": true
   },
   "outputs": [
    {
     "data": {
      "text/html": [
       "<div>\n",
       "<style scoped>\n",
       "    .dataframe tbody tr th:only-of-type {\n",
       "        vertical-align: middle;\n",
       "    }\n",
       "\n",
       "    .dataframe tbody tr th {\n",
       "        vertical-align: top;\n",
       "    }\n",
       "\n",
       "    .dataframe thead th {\n",
       "        text-align: right;\n",
       "    }\n",
       "</style>\n",
       "<table border=\"1\" class=\"dataframe\">\n",
       "  <thead>\n",
       "    <tr style=\"text-align: right;\">\n",
       "      <th>MIS_Status</th>\n",
       "      <th>0</th>\n",
       "      <th>1</th>\n",
       "      <th>Def_Percent</th>\n",
       "    </tr>\n",
       "    <tr>\n",
       "      <th>State</th>\n",
       "      <th></th>\n",
       "      <th></th>\n",
       "      <th></th>\n",
       "    </tr>\n",
       "  </thead>\n",
       "  <tbody>\n",
       "    <tr>\n",
       "      <th>AK</th>\n",
       "      <td>1122</td>\n",
       "      <td>120</td>\n",
       "      <td>0.096618</td>\n",
       "    </tr>\n",
       "    <tr>\n",
       "      <th>AL</th>\n",
       "      <td>3734</td>\n",
       "      <td>1072</td>\n",
       "      <td>0.223055</td>\n",
       "    </tr>\n",
       "    <tr>\n",
       "      <th>AR</th>\n",
       "      <td>3056</td>\n",
       "      <td>768</td>\n",
       "      <td>0.200837</td>\n",
       "    </tr>\n",
       "    <tr>\n",
       "      <th>AZ</th>\n",
       "      <td>8295</td>\n",
       "      <td>2952</td>\n",
       "      <td>0.262470</td>\n",
       "    </tr>\n",
       "    <tr>\n",
       "      <th>CA</th>\n",
       "      <td>61189</td>\n",
       "      <td>19862</td>\n",
       "      <td>0.245056</td>\n",
       "    </tr>\n",
       "    <tr>\n",
       "      <th>CO</th>\n",
       "      <td>10338</td>\n",
       "      <td>3055</td>\n",
       "      <td>0.228104</td>\n",
       "    </tr>\n",
       "    <tr>\n",
       "      <th>CT</th>\n",
       "      <td>7213</td>\n",
       "      <td>1334</td>\n",
       "      <td>0.156078</td>\n",
       "    </tr>\n",
       "    <tr>\n",
       "      <th>DC</th>\n",
       "      <td>849</td>\n",
       "      <td>341</td>\n",
       "      <td>0.286555</td>\n",
       "    </tr>\n",
       "    <tr>\n",
       "      <th>DE</th>\n",
       "      <td>1164</td>\n",
       "      <td>331</td>\n",
       "      <td>0.221405</td>\n",
       "    </tr>\n",
       "    <tr>\n",
       "      <th>FL</th>\n",
       "      <td>19695</td>\n",
       "      <td>8950</td>\n",
       "      <td>0.312445</td>\n",
       "    </tr>\n",
       "    <tr>\n",
       "      <th>GA</th>\n",
       "      <td>9473</td>\n",
       "      <td>4113</td>\n",
       "      <td>0.302738</td>\n",
       "    </tr>\n",
       "    <tr>\n",
       "      <th>HI</th>\n",
       "      <td>2118</td>\n",
       "      <td>487</td>\n",
       "      <td>0.186948</td>\n",
       "    </tr>\n",
       "    <tr>\n",
       "      <th>IA</th>\n",
       "      <td>6157</td>\n",
       "      <td>977</td>\n",
       "      <td>0.136950</td>\n",
       "    </tr>\n",
       "    <tr>\n",
       "      <th>ID</th>\n",
       "      <td>5245</td>\n",
       "      <td>1068</td>\n",
       "      <td>0.169175</td>\n",
       "    </tr>\n",
       "    <tr>\n",
       "      <th>IL</th>\n",
       "      <td>15074</td>\n",
       "      <td>5533</td>\n",
       "      <td>0.268501</td>\n",
       "    </tr>\n",
       "    <tr>\n",
       "      <th>IN</th>\n",
       "      <td>7883</td>\n",
       "      <td>2037</td>\n",
       "      <td>0.205343</td>\n",
       "    </tr>\n",
       "    <tr>\n",
       "      <th>KS</th>\n",
       "      <td>6023</td>\n",
       "      <td>961</td>\n",
       "      <td>0.137600</td>\n",
       "    </tr>\n",
       "    <tr>\n",
       "      <th>KY</th>\n",
       "      <td>4063</td>\n",
       "      <td>1121</td>\n",
       "      <td>0.216242</td>\n",
       "    </tr>\n",
       "    <tr>\n",
       "      <th>LA</th>\n",
       "      <td>4870</td>\n",
       "      <td>1305</td>\n",
       "      <td>0.211336</td>\n",
       "    </tr>\n",
       "    <tr>\n",
       "      <th>MA</th>\n",
       "      <td>15433</td>\n",
       "      <td>2755</td>\n",
       "      <td>0.151473</td>\n",
       "    </tr>\n",
       "    <tr>\n",
       "      <th>MD</th>\n",
       "      <td>7133</td>\n",
       "      <td>2155</td>\n",
       "      <td>0.232020</td>\n",
       "    </tr>\n",
       "    <tr>\n",
       "      <th>ME</th>\n",
       "      <td>3501</td>\n",
       "      <td>439</td>\n",
       "      <td>0.111421</td>\n",
       "    </tr>\n",
       "    <tr>\n",
       "      <th>MI</th>\n",
       "      <td>10426</td>\n",
       "      <td>3931</td>\n",
       "      <td>0.273804</td>\n",
       "    </tr>\n",
       "    <tr>\n",
       "      <th>MN</th>\n",
       "      <td>13579</td>\n",
       "      <td>2370</td>\n",
       "      <td>0.148599</td>\n",
       "    </tr>\n",
       "    <tr>\n",
       "      <th>MO</th>\n",
       "      <td>10406</td>\n",
       "      <td>2270</td>\n",
       "      <td>0.179079</td>\n",
       "    </tr>\n",
       "    <tr>\n",
       "      <th>MS</th>\n",
       "      <td>4262</td>\n",
       "      <td>912</td>\n",
       "      <td>0.176266</td>\n",
       "    </tr>\n",
       "    <tr>\n",
       "      <th>MT</th>\n",
       "      <td>4816</td>\n",
       "      <td>395</td>\n",
       "      <td>0.075801</td>\n",
       "    </tr>\n",
       "    <tr>\n",
       "      <th>NC</th>\n",
       "      <td>6976</td>\n",
       "      <td>2224</td>\n",
       "      <td>0.241739</td>\n",
       "    </tr>\n",
       "    <tr>\n",
       "      <th>ND</th>\n",
       "      <td>3020</td>\n",
       "      <td>254</td>\n",
       "      <td>0.077581</td>\n",
       "    </tr>\n",
       "    <tr>\n",
       "      <th>NE</th>\n",
       "      <td>3624</td>\n",
       "      <td>537</td>\n",
       "      <td>0.129056</td>\n",
       "    </tr>\n",
       "    <tr>\n",
       "      <th>NH</th>\n",
       "      <td>7530</td>\n",
       "      <td>1088</td>\n",
       "      <td>0.126247</td>\n",
       "    </tr>\n",
       "    <tr>\n",
       "      <th>NJ</th>\n",
       "      <td>12840</td>\n",
       "      <td>3953</td>\n",
       "      <td>0.235396</td>\n",
       "    </tr>\n",
       "    <tr>\n",
       "      <th>NM</th>\n",
       "      <td>3278</td>\n",
       "      <td>433</td>\n",
       "      <td>0.116680</td>\n",
       "    </tr>\n",
       "    <tr>\n",
       "      <th>NV</th>\n",
       "      <td>3682</td>\n",
       "      <td>1538</td>\n",
       "      <td>0.294636</td>\n",
       "    </tr>\n",
       "    <tr>\n",
       "      <th>NY</th>\n",
       "      <td>31463</td>\n",
       "      <td>9571</td>\n",
       "      <td>0.233246</td>\n",
       "    </tr>\n",
       "    <tr>\n",
       "      <th>OH</th>\n",
       "      <td>17935</td>\n",
       "      <td>4336</td>\n",
       "      <td>0.194693</td>\n",
       "    </tr>\n",
       "    <tr>\n",
       "      <th>OK</th>\n",
       "      <td>5212</td>\n",
       "      <td>1133</td>\n",
       "      <td>0.178566</td>\n",
       "    </tr>\n",
       "    <tr>\n",
       "      <th>OR</th>\n",
       "      <td>5861</td>\n",
       "      <td>1400</td>\n",
       "      <td>0.192811</td>\n",
       "    </tr>\n",
       "    <tr>\n",
       "      <th>PA</th>\n",
       "      <td>20839</td>\n",
       "      <td>4095</td>\n",
       "      <td>0.164234</td>\n",
       "    </tr>\n",
       "    <tr>\n",
       "      <th>RI</th>\n",
       "      <td>5463</td>\n",
       "      <td>854</td>\n",
       "      <td>0.135191</td>\n",
       "    </tr>\n",
       "    <tr>\n",
       "      <th>SC</th>\n",
       "      <td>2673</td>\n",
       "      <td>840</td>\n",
       "      <td>0.239112</td>\n",
       "    </tr>\n",
       "    <tr>\n",
       "      <th>SD</th>\n",
       "      <td>2355</td>\n",
       "      <td>236</td>\n",
       "      <td>0.091085</td>\n",
       "    </tr>\n",
       "    <tr>\n",
       "      <th>TN</th>\n",
       "      <td>4388</td>\n",
       "      <td>1552</td>\n",
       "      <td>0.261279</td>\n",
       "    </tr>\n",
       "    <tr>\n",
       "      <th>TX</th>\n",
       "      <td>34116</td>\n",
       "      <td>9775</td>\n",
       "      <td>0.222711</td>\n",
       "    </tr>\n",
       "    <tr>\n",
       "      <th>UT</th>\n",
       "      <td>10673</td>\n",
       "      <td>2869</td>\n",
       "      <td>0.211859</td>\n",
       "    </tr>\n",
       "    <tr>\n",
       "      <th>VA</th>\n",
       "      <td>6698</td>\n",
       "      <td>1999</td>\n",
       "      <td>0.229849</td>\n",
       "    </tr>\n",
       "    <tr>\n",
       "      <th>VT</th>\n",
       "      <td>2829</td>\n",
       "      <td>246</td>\n",
       "      <td>0.080000</td>\n",
       "    </tr>\n",
       "    <tr>\n",
       "      <th>WA</th>\n",
       "      <td>12046</td>\n",
       "      <td>2538</td>\n",
       "      <td>0.174026</td>\n",
       "    </tr>\n",
       "    <tr>\n",
       "      <th>WI</th>\n",
       "      <td>11333</td>\n",
       "      <td>2015</td>\n",
       "      <td>0.150959</td>\n",
       "    </tr>\n",
       "    <tr>\n",
       "      <th>WV</th>\n",
       "      <td>1637</td>\n",
       "      <td>376</td>\n",
       "      <td>0.186786</td>\n",
       "    </tr>\n",
       "    <tr>\n",
       "      <th>WY</th>\n",
       "      <td>1585</td>\n",
       "      <td>110</td>\n",
       "      <td>0.064897</td>\n",
       "    </tr>\n",
       "  </tbody>\n",
       "</table>\n",
       "</div>"
      ],
      "text/plain": [
       "MIS_Status      0      1  Def_Percent\n",
       "State                                \n",
       "AK           1122    120     0.096618\n",
       "AL           3734   1072     0.223055\n",
       "AR           3056    768     0.200837\n",
       "AZ           8295   2952     0.262470\n",
       "CA          61189  19862     0.245056\n",
       "CO          10338   3055     0.228104\n",
       "CT           7213   1334     0.156078\n",
       "DC            849    341     0.286555\n",
       "DE           1164    331     0.221405\n",
       "FL          19695   8950     0.312445\n",
       "GA           9473   4113     0.302738\n",
       "HI           2118    487     0.186948\n",
       "IA           6157    977     0.136950\n",
       "ID           5245   1068     0.169175\n",
       "IL          15074   5533     0.268501\n",
       "IN           7883   2037     0.205343\n",
       "KS           6023    961     0.137600\n",
       "KY           4063   1121     0.216242\n",
       "LA           4870   1305     0.211336\n",
       "MA          15433   2755     0.151473\n",
       "MD           7133   2155     0.232020\n",
       "ME           3501    439     0.111421\n",
       "MI          10426   3931     0.273804\n",
       "MN          13579   2370     0.148599\n",
       "MO          10406   2270     0.179079\n",
       "MS           4262    912     0.176266\n",
       "MT           4816    395     0.075801\n",
       "NC           6976   2224     0.241739\n",
       "ND           3020    254     0.077581\n",
       "NE           3624    537     0.129056\n",
       "NH           7530   1088     0.126247\n",
       "NJ          12840   3953     0.235396\n",
       "NM           3278    433     0.116680\n",
       "NV           3682   1538     0.294636\n",
       "NY          31463   9571     0.233246\n",
       "OH          17935   4336     0.194693\n",
       "OK           5212   1133     0.178566\n",
       "OR           5861   1400     0.192811\n",
       "PA          20839   4095     0.164234\n",
       "RI           5463    854     0.135191\n",
       "SC           2673    840     0.239112\n",
       "SD           2355    236     0.091085\n",
       "TN           4388   1552     0.261279\n",
       "TX          34116   9775     0.222711\n",
       "UT          10673   2869     0.211859\n",
       "VA           6698   1999     0.229849\n",
       "VT           2829    246     0.080000\n",
       "WA          12046   2538     0.174026\n",
       "WI          11333   2015     0.150959\n",
       "WV           1637    376     0.186786\n",
       "WY           1585    110     0.064897"
      ]
     },
     "execution_count": 44,
     "metadata": {},
     "output_type": "execute_result"
    }
   ],
   "source": [
    "def_state = df.groupby(['State', 'MIS_Status'])['State'].count().unstack('MIS_Status')\n",
    "def_state['Def_Percent'] = def_state[1]/(def_state[1] + def_state[0])\n",
    "def_state"
   ]
  },
  {
   "cell_type": "markdown",
   "id": "6ad2d32f",
   "metadata": {},
   "source": [
    "##### > Loans paid in full and Defaulted loans by DisbursementFY"
   ]
  },
  {
   "cell_type": "code",
   "execution_count": 45,
   "id": "5271b1ca",
   "metadata": {},
   "outputs": [
    {
     "data": {
      "image/png": "[encoded data removed]",
      "text/plain": [
       "<Figure size 1080x360 with 1 Axes>"
      ]
     },
     "metadata": {
      "needs_background": "light"
     },
     "output_type": "display_data"
    }
   ],
   "source": [
    "fig4, ax4 = plt.subplots(figsize=(15, 5))\n",
    "\n",
    "stack_data = df.groupby(['DisbursementFY', 'MIS_Status'])['DisbursementFY'].count().unstack('MIS_Status')\n",
    "x = stack_data.index\n",
    "y = [stack_data[1], stack_data[0]]\n",
    "\n",
    "ax4.stackplot(x, y, labels=['Default', 'Paid in full'])\n",
    "ax4.set_title('Number of PIF/Defaulted Loans by State from 1984-2010', fontsize=15)\n",
    "ax4.set_xlabel('Disbursement Year')\n",
    "ax4.set_ylabel('Number of PIF/Defaulted Loans')\n",
    "ax4.legend(loc='upper left')\n",
    "\n",
    "plt.show()\n",
    "\n",
    "# We use a stacked area chart here since it's time series data"
   ]
  },
  {
   "cell_type": "markdown",
   "id": "7abcb620",
   "metadata": {},
   "source": [
    "##### # It can be clearly seen that most loans have defaulted in the time-period leading up to the Great Reccession 2008 Also note how the number of loans have icreased until the Great Reccesion and then sharply decreased"
   ]
  },
  {
   "cell_type": "markdown",
   "id": "a74ea714",
   "metadata": {},
   "source": [
    "##### > Loans backed by Real Estate v/s Loans during the Great Recession"
   ]
  },
  {
   "cell_type": "code",
   "execution_count": 46,
   "id": "ed4ced09",
   "metadata": {},
   "outputs": [
    {
     "data": {
      "image/png": "[encoded data removed]",
      "text/plain": [
       "<Figure size 1440x720 with 2 Axes>"
      ]
     },
     "metadata": {
      "needs_background": "light"
     },
     "output_type": "display_data"
    }
   ],
   "source": [
    "# _____ Paid in full and defaulted loans backed by Real Estate ______\n",
    "\n",
    "fig5 = plt.figure(figsize=(20, 10))\n",
    "\n",
    "ax1b = fig5.add_subplot(1, 2, 1)\n",
    "ax2b = fig5.add_subplot(1, 2, 2)\n",
    "\n",
    "stacked_setup(df=df, col='RealEstate', axes=ax1b)\n",
    "ax1b.set_xticks(df.groupby(['RealEstate', 'MIS_Status'])['RealEstate'].count().unstack('MIS_Status').index)\n",
    "ax1b.set_xticklabels(labels=['No', 'Yes'])\n",
    "\n",
    "ax1b.set_title('Number of PIF/Defaulted Loans backed by Real Estate from 1984-2010', fontsize=15)\n",
    "ax1b.set_xlabel('Loan Backed by Real Estate')\n",
    "ax1b.set_ylabel('Number of Loans')\n",
    "ax1b.legend()\n",
    "\n",
    "# ______ Paid in full and defaulted loans active during the Great Recession ______\n",
    "\n",
    "stacked_setup(df=df, col='GreatRecession', axes=ax2b)\n",
    "ax2b.set_xticks(df.groupby(['GreatRecession', 'MIS_Status'])['GreatRecession'].count().unstack('MIS_Status').index)\n",
    "ax2b.set_xticklabels(labels=['No', 'Yes'])\n",
    "\n",
    "ax2b.set_title('Number of PIF/Defaulted Loans Active during the Great Recession from 1984-2010', fontsize=15)\n",
    "ax2b.set_xlabel('Loan Active during Great Recession')\n",
    "ax2b.set_ylabel('Number of Loans')\n",
    "ax2b.legend()\n",
    "\n",
    "plt.show()"
   ]
  },
  {
   "cell_type": "markdown",
   "id": "ad298b74",
   "metadata": {},
   "source": [
    "##### # Surprisingly, the volume of loans backed by real estate was much less than those not backed by real estate however the default rate is also much less for loans backed by real estate."
   ]
  },
  {
   "cell_type": "markdown",
   "id": "18b531e4",
   "metadata": {},
   "source": [
    "##### > Default percentage for loans backed by Real Estate"
   ]
  },
  {
   "cell_type": "code",
   "execution_count": 47,
   "id": "36498600",
   "metadata": {},
   "outputs": [
    {
     "data": {
      "text/html": [
       "<div>\n",
       "<style scoped>\n",
       "    .dataframe tbody tr th:only-of-type {\n",
       "        vertical-align: middle;\n",
       "    }\n",
       "\n",
       "    .dataframe tbody tr th {\n",
       "        vertical-align: top;\n",
       "    }\n",
       "\n",
       "    .dataframe thead th {\n",
       "        text-align: right;\n",
       "    }\n",
       "</style>\n",
       "<table border=\"1\" class=\"dataframe\">\n",
       "  <thead>\n",
       "    <tr style=\"text-align: right;\">\n",
       "      <th>MIS_Status</th>\n",
       "      <th>0</th>\n",
       "      <th>1</th>\n",
       "      <th>Def_Percent</th>\n",
       "    </tr>\n",
       "    <tr>\n",
       "      <th>RealEstate</th>\n",
       "      <th></th>\n",
       "      <th></th>\n",
       "      <th></th>\n",
       "    </tr>\n",
       "  </thead>\n",
       "  <tbody>\n",
       "    <tr>\n",
       "      <th>0</th>\n",
       "      <td>406685</td>\n",
       "      <td>124926</td>\n",
       "      <td>0.234995</td>\n",
       "    </tr>\n",
       "    <tr>\n",
       "      <th>1</th>\n",
       "      <td>58488</td>\n",
       "      <td>660</td>\n",
       "      <td>0.011158</td>\n",
       "    </tr>\n",
       "  </tbody>\n",
       "</table>\n",
       "</div>"
      ],
      "text/plain": [
       "MIS_Status       0       1  Def_Percent\n",
       "RealEstate                             \n",
       "0           406685  124926     0.234995\n",
       "1            58488     660     0.011158"
      ]
     },
     "execution_count": 47,
     "metadata": {},
     "output_type": "execute_result"
    }
   ],
   "source": [
    "def_re = df.groupby(['RealEstate', 'MIS_Status'])['RealEstate'].count().unstack('MIS_Status')\n",
    "def_re['Def_Percent'] = def_re[1]/(def_re[1] + def_re[0])\n",
    "def_re"
   ]
  },
  {
   "cell_type": "markdown",
   "id": "5927ce57",
   "metadata": {},
   "source": [
    "##### > Default percentage for loans active during the Great Recession"
   ]
  },
  {
   "cell_type": "code",
   "execution_count": 48,
   "id": "5c09fae2",
   "metadata": {},
   "outputs": [
    {
     "data": {
      "text/html": [
       "<div>\n",
       "<style scoped>\n",
       "    .dataframe tbody tr th:only-of-type {\n",
       "        vertical-align: middle;\n",
       "    }\n",
       "\n",
       "    .dataframe tbody tr th {\n",
       "        vertical-align: top;\n",
       "    }\n",
       "\n",
       "    .dataframe thead th {\n",
       "        text-align: right;\n",
       "    }\n",
       "</style>\n",
       "<table border=\"1\" class=\"dataframe\">\n",
       "  <thead>\n",
       "    <tr style=\"text-align: right;\">\n",
       "      <th>MIS_Status</th>\n",
       "      <th>0</th>\n",
       "      <th>1</th>\n",
       "      <th>Def_Percent</th>\n",
       "    </tr>\n",
       "    <tr>\n",
       "      <th>GreatRecession</th>\n",
       "      <th></th>\n",
       "      <th></th>\n",
       "      <th></th>\n",
       "    </tr>\n",
       "  </thead>\n",
       "  <tbody>\n",
       "    <tr>\n",
       "      <th>0</th>\n",
       "      <td>112027</td>\n",
       "      <td>33198</td>\n",
       "      <td>0.228597</td>\n",
       "    </tr>\n",
       "    <tr>\n",
       "      <th>1</th>\n",
       "      <td>353146</td>\n",
       "      <td>92388</td>\n",
       "      <td>0.207365</td>\n",
       "    </tr>\n",
       "  </tbody>\n",
       "</table>\n",
       "</div>"
      ],
      "text/plain": [
       "MIS_Status           0      1  Def_Percent\n",
       "GreatRecession                            \n",
       "0               112027  33198     0.228597\n",
       "1               353146  92388     0.207365"
      ]
     },
     "execution_count": 48,
     "metadata": {},
     "output_type": "execute_result"
    }
   ],
   "source": [
    "def_gr = df.groupby(['GreatRecession', 'MIS_Status'])['GreatRecession'].count().unstack('MIS_Status')\n",
    "def_gr['Def_Percent'] = def_gr[1]/(def_gr[1] + def_gr[0])\n",
    "def_gr"
   ]
  },
  {
   "cell_type": "markdown",
   "id": "5261d5f8",
   "metadata": {},
   "source": [
    "## 6. Model Building"
   ]
  },
  {
   "cell_type": "markdown",
   "id": "77224431",
   "metadata": {},
   "source": [
    "##### > Dummy encoding"
   ]
  },
  {
   "cell_type": "code",
   "execution_count": 49,
   "id": "624c5801",
   "metadata": {
    "scrolled": true
   },
   "outputs": [
    {
     "data": {
      "text/html": [
       "<div>\n",
       "<style scoped>\n",
       "    .dataframe tbody tr th:only-of-type {\n",
       "        vertical-align: middle;\n",
       "    }\n",
       "\n",
       "    .dataframe tbody tr th {\n",
       "        vertical-align: top;\n",
       "    }\n",
       "\n",
       "    .dataframe thead th {\n",
       "        text-align: right;\n",
       "    }\n",
       "</style>\n",
       "<table border=\"1\" class=\"dataframe\">\n",
       "  <thead>\n",
       "    <tr style=\"text-align: right;\">\n",
       "      <th></th>\n",
       "      <th>ApprovalFY</th>\n",
       "      <th>Term</th>\n",
       "      <th>NewExist</th>\n",
       "      <th>UrbanRural</th>\n",
       "      <th>RevLineCr</th>\n",
       "      <th>LowDoc</th>\n",
       "      <th>DisbursementGross</th>\n",
       "      <th>BalanceGross</th>\n",
       "      <th>MIS_Status</th>\n",
       "      <th>GrAppv</th>\n",
       "      <th>...</th>\n",
       "      <th>Industry_Mgmt_comp</th>\n",
       "      <th>Industry_Min/Quar/Oil_Gas_ext</th>\n",
       "      <th>Industry_Other_no_pub</th>\n",
       "      <th>Industry_Prof/Science/Tech</th>\n",
       "      <th>Industry_Public_Admin</th>\n",
       "      <th>Industry_RE/Rental/Lease</th>\n",
       "      <th>Industry_Retail_trade</th>\n",
       "      <th>Industry_Trans/Ware</th>\n",
       "      <th>Industry_Utilities</th>\n",
       "      <th>Industry_Wholesale_trade</th>\n",
       "    </tr>\n",
       "  </thead>\n",
       "  <tbody>\n",
       "    <tr>\n",
       "      <th>0</th>\n",
       "      <td>1997</td>\n",
       "      <td>84</td>\n",
       "      <td>2</td>\n",
       "      <td>0</td>\n",
       "      <td>-1</td>\n",
       "      <td>1</td>\n",
       "      <td>60000.0</td>\n",
       "      <td>0.0</td>\n",
       "      <td>0</td>\n",
       "      <td>11.002100</td>\n",
       "      <td>...</td>\n",
       "      <td>0</td>\n",
       "      <td>0</td>\n",
       "      <td>0</td>\n",
       "      <td>0</td>\n",
       "      <td>0</td>\n",
       "      <td>0</td>\n",
       "      <td>1</td>\n",
       "      <td>0</td>\n",
       "      <td>0</td>\n",
       "      <td>0</td>\n",
       "    </tr>\n",
       "    <tr>\n",
       "      <th>1</th>\n",
       "      <td>1997</td>\n",
       "      <td>60</td>\n",
       "      <td>2</td>\n",
       "      <td>0</td>\n",
       "      <td>-1</td>\n",
       "      <td>1</td>\n",
       "      <td>40000.0</td>\n",
       "      <td>0.0</td>\n",
       "      <td>0</td>\n",
       "      <td>10.596635</td>\n",
       "      <td>...</td>\n",
       "      <td>0</td>\n",
       "      <td>0</td>\n",
       "      <td>0</td>\n",
       "      <td>0</td>\n",
       "      <td>0</td>\n",
       "      <td>0</td>\n",
       "      <td>0</td>\n",
       "      <td>0</td>\n",
       "      <td>0</td>\n",
       "      <td>0</td>\n",
       "    </tr>\n",
       "    <tr>\n",
       "      <th>2</th>\n",
       "      <td>1997</td>\n",
       "      <td>180</td>\n",
       "      <td>1</td>\n",
       "      <td>0</td>\n",
       "      <td>-1</td>\n",
       "      <td>0</td>\n",
       "      <td>287000.0</td>\n",
       "      <td>0.0</td>\n",
       "      <td>0</td>\n",
       "      <td>12.567237</td>\n",
       "      <td>...</td>\n",
       "      <td>0</td>\n",
       "      <td>0</td>\n",
       "      <td>0</td>\n",
       "      <td>0</td>\n",
       "      <td>0</td>\n",
       "      <td>0</td>\n",
       "      <td>0</td>\n",
       "      <td>0</td>\n",
       "      <td>0</td>\n",
       "      <td>0</td>\n",
       "    </tr>\n",
       "    <tr>\n",
       "      <th>7</th>\n",
       "      <td>1997</td>\n",
       "      <td>84</td>\n",
       "      <td>2</td>\n",
       "      <td>0</td>\n",
       "      <td>-1</td>\n",
       "      <td>1</td>\n",
       "      <td>45000.0</td>\n",
       "      <td>0.0</td>\n",
       "      <td>0</td>\n",
       "      <td>10.714418</td>\n",
       "      <td>...</td>\n",
       "      <td>0</td>\n",
       "      <td>0</td>\n",
       "      <td>1</td>\n",
       "      <td>0</td>\n",
       "      <td>0</td>\n",
       "      <td>0</td>\n",
       "      <td>0</td>\n",
       "      <td>0</td>\n",
       "      <td>0</td>\n",
       "      <td>0</td>\n",
       "    </tr>\n",
       "    <tr>\n",
       "      <th>8</th>\n",
       "      <td>1997</td>\n",
       "      <td>297</td>\n",
       "      <td>2</td>\n",
       "      <td>0</td>\n",
       "      <td>-1</td>\n",
       "      <td>0</td>\n",
       "      <td>305000.0</td>\n",
       "      <td>0.0</td>\n",
       "      <td>0</td>\n",
       "      <td>12.628067</td>\n",
       "      <td>...</td>\n",
       "      <td>0</td>\n",
       "      <td>0</td>\n",
       "      <td>0</td>\n",
       "      <td>0</td>\n",
       "      <td>0</td>\n",
       "      <td>0</td>\n",
       "      <td>0</td>\n",
       "      <td>0</td>\n",
       "      <td>0</td>\n",
       "      <td>0</td>\n",
       "    </tr>\n",
       "  </tbody>\n",
       "</table>\n",
       "<p>5 rows × 87 columns</p>\n",
       "</div>"
      ],
      "text/plain": [
       "   ApprovalFY  Term  NewExist  UrbanRural  RevLineCr  LowDoc  \\\n",
       "0        1997    84         2           0         -1       1   \n",
       "1        1997    60         2           0         -1       1   \n",
       "2        1997   180         1           0         -1       0   \n",
       "7        1997    84         2           0         -1       1   \n",
       "8        1997   297         2           0         -1       0   \n",
       "\n",
       "   DisbursementGross  BalanceGross  MIS_Status     GrAppv  ...  \\\n",
       "0            60000.0           0.0           0  11.002100  ...   \n",
       "1            40000.0           0.0           0  10.596635  ...   \n",
       "2           287000.0           0.0           0  12.567237  ...   \n",
       "7            45000.0           0.0           0  10.714418  ...   \n",
       "8           305000.0           0.0           0  12.628067  ...   \n",
       "\n",
       "   Industry_Mgmt_comp  Industry_Min/Quar/Oil_Gas_ext  Industry_Other_no_pub  \\\n",
       "0                   0                              0                      0   \n",
       "1                   0                              0                      0   \n",
       "2                   0                              0                      0   \n",
       "7                   0                              0                      1   \n",
       "8                   0                              0                      0   \n",
       "\n",
       "   Industry_Prof/Science/Tech  Industry_Public_Admin  \\\n",
       "0                           0                      0   \n",
       "1                           0                      0   \n",
       "2                           0                      0   \n",
       "7                           0                      0   \n",
       "8                           0                      0   \n",
       "\n",
       "   Industry_RE/Rental/Lease  Industry_Retail_trade  Industry_Trans/Ware  \\\n",
       "0                         0                      1                    0   \n",
       "1                         0                      0                    0   \n",
       "2                         0                      0                    0   \n",
       "7                         0                      0                    0   \n",
       "8                         0                      0                    0   \n",
       "\n",
       "   Industry_Utilities  Industry_Wholesale_trade  \n",
       "0                   0                         0  \n",
       "1                   0                         0  \n",
       "2                   0                         0  \n",
       "7                   0                         0  \n",
       "8                   0                         0  \n",
       "\n",
       "[5 rows x 87 columns]"
      ]
     },
     "execution_count": 49,
     "metadata": {},
     "output_type": "execute_result"
    }
   ],
   "source": [
    "df=pd.get_dummies(df)\n",
    "df.head()"
   ]
  },
  {
   "cell_type": "markdown",
   "id": "23351eb3",
   "metadata": {},
   "source": [
    "##### > Split data into train and test sets + label target value"
   ]
  },
  {
   "cell_type": "code",
   "execution_count": 50,
   "id": "c8f909ad",
   "metadata": {},
   "outputs": [],
   "source": [
    "y = df.MIS_Status\n",
    "X = df.drop(['MIS_Status'], axis=1)\n",
    "\n",
    "# Scale the feature values prior to modeling\n",
    "scale = StandardScaler()\n",
    "X_scaled = scale.fit_transform(X)\n",
    "\n",
    "X_train, X_val, y_train, y_val = train_test_split(X_scaled, y, test_size=0.25)"
   ]
  },
  {
   "cell_type": "markdown",
   "id": "cbe76f54",
   "metadata": {},
   "source": [
    "#### > LOGISTIC REGRESSION"
   ]
  },
  {
   "cell_type": "code",
   "execution_count": 51,
   "id": "21763e4e",
   "metadata": {},
   "outputs": [
    {
     "name": "stdout",
     "output_type": "stream",
     "text": [
      "              precision    recall  f1-score   support\n",
      "\n",
      "           0      0.875     0.946     0.909    116372\n",
      "           1      0.714     0.500     0.588     31318\n",
      "\n",
      "    accuracy                          0.852    147690\n",
      "   macro avg      0.795     0.723     0.749    147690\n",
      "weighted avg      0.841     0.852     0.841    147690\n",
      "\n"
     ]
    }
   ],
   "source": [
    "log_reg = LogisticRegression(random_state=0)   # Initialize model\n",
    "\n",
    "log_reg.fit(X_train, y_train)\n",
    "y_logpred = log_reg.predict(X_val)   # Train model and make predictions\n",
    "\n",
    "print(classification_report(y_val, y_logpred, digits=3))   # Print results"
   ]
  },
  {
   "cell_type": "markdown",
   "id": "0218635e",
   "metadata": {},
   "source": [
    "##### # Observation -\n",
    "\n",
    "We can see here that with the Logistic Regression model, we have a surprising accuracy of 85%, and the F1-score of 60% for defaulted loans doesn't seem promising at all. The precision suggests that the model is correct 70% of the time when the loan defaults, and the recall suggests that the model identifies only a 50% of defaulted loans correctly. That means that every one of two loans that defaulted were incorrectly classified as loans that would be paid in full, which is horribly bad business for any loan providing entity."
   ]
  },
  {
   "cell_type": "markdown",
   "id": "6ce2d68f",
   "metadata": {},
   "source": [
    "#### > DECISION TREES"
   ]
  },
  {
   "cell_type": "code",
   "execution_count": 52,
   "id": "1f6866ec",
   "metadata": {},
   "outputs": [
    {
     "name": "stdout",
     "output_type": "stream",
     "text": [
      "              precision    recall  f1-score   support\n",
      "\n",
      "           0       0.95      0.95      0.95    116372\n",
      "           1       0.81      0.81      0.81     31318\n",
      "\n",
      "    accuracy                           0.92    147690\n",
      "   macro avg       0.88      0.88      0.88    147690\n",
      "weighted avg       0.92      0.92      0.92    147690\n",
      "\n",
      "[[110447   5925]\n",
      " [  5904  25414]]\n"
     ]
    }
   ],
   "source": [
    "dtc = DecisionTreeClassifier(random_state=0)\n",
    "dtc.fit(X_train, y_train)\n",
    "\n",
    "pred = dtc.predict(X_val)\n",
    "\n",
    "print(classification_report(y_val, pred))\n",
    "print(confusion_matrix(y_val, pred))"
   ]
  },
  {
   "cell_type": "markdown",
   "id": "cd710ad8",
   "metadata": {},
   "source": [
    "##### # note how our scores have increased vastly as compared to Logistic Regression"
   ]
  },
  {
   "cell_type": "markdown",
   "id": "5fa4b155",
   "metadata": {},
   "source": [
    "#### > XGBOOST"
   ]
  },
  {
   "cell_type": "code",
   "execution_count": 53,
   "id": "f445f4e9",
   "metadata": {},
   "outputs": [
    {
     "name": "stdout",
     "output_type": "stream",
     "text": [
      "              precision    recall  f1-score   support\n",
      "\n",
      "           0      0.964     0.968     0.966    116372\n",
      "           1      0.879     0.864     0.872     31318\n",
      "\n",
      "    accuracy                          0.946    147690\n",
      "   macro avg      0.922     0.916     0.919    147690\n",
      "weighted avg      0.946     0.946     0.946    147690\n",
      "\n"
     ]
    }
   ],
   "source": [
    "xgboost = XGBClassifier(random_state=0)\n",
    "\n",
    "xgboost.fit(X_train, y_train)\n",
    "y_xgbpred = xgboost.predict(X_val)\n",
    "\n",
    "print(classification_report(y_val, y_xgbpred, digits=3))"
   ]
  },
  {
   "cell_type": "markdown",
   "id": "1f39aa97",
   "metadata": {},
   "source": [
    "##### # scores have increased slightly more than Decision Trees, we can still tune hyperparameters if we want to"
   ]
  },
  {
   "cell_type": "markdown",
   "id": "eae36bb8",
   "metadata": {},
   "source": [
    "#### > List the importance of each feature"
   ]
  },
  {
   "cell_type": "code",
   "execution_count": 54,
   "id": "22f1c074",
   "metadata": {
    "scrolled": true
   },
   "outputs": [
    {
     "name": "stdout",
     "output_type": "stream",
     "text": [
      "ApprovalFY = 6.296 %\n",
      "BalanceGross = 0.0 %\n",
      "DisbursementFY = 2.155 %\n",
      "DisbursementGross = 0.928 %\n",
      "Franchise = 0.551 %\n",
      "GrAppv = 1.379 %\n",
      "GreatRecession = 4.568 %\n",
      "Industry_Accom/Food_serv = 0.776 %\n",
      "Industry_Admin_sup/Waste_Mgmt_Rem = 0.17 %\n",
      "Industry_Ag/For/Fish/Hunt = 0.426 %\n",
      "Industry_Arts/Entertain/Rec = 0.261 %\n",
      "Industry_Construction = 0.378 %\n",
      "Industry_Educational = 0.199 %\n",
      "Industry_Finance/Insurance = 0.545 %\n",
      "Industry_Healthcare/Social_assist = 2.569 %\n",
      "Industry_Information = 0.202 %\n",
      "Industry_Manufacturing = 0.301 %\n",
      "Industry_Mgmt_comp = 0.0 %\n",
      "Industry_Min/Quar/Oil_Gas_ext = 0.803 %\n",
      "Industry_Other_no_pub = 0.851 %\n",
      "Industry_Prof/Science/Tech = 0.787 %\n",
      "Industry_Public_Admin = 0.0 %\n",
      "Industry_RE/Rental/Lease = 0.609 %\n",
      "Industry_Retail_trade = 1.024 %\n",
      "Industry_Trans/Ware = 0.375 %\n",
      "Industry_Utilities = 0.0 %\n",
      "Industry_Wholesale_trade = 0.418 %\n",
      "LowDoc = 1.847 %\n",
      "NewExist = 1.007 %\n",
      "RealEstate = 0.0 %\n",
      "RevLineCr = 2.597 %\n",
      "SBA_Appv = 1.357 %\n",
      "SBA_ApvPct = 2.982 %\n",
      "State_AK = 0.313 %\n",
      "State_AL = 0.446 %\n",
      "State_AR = 0.541 %\n",
      "State_AZ = 1.418 %\n",
      "State_CA = 2.51 %\n",
      "State_CO = 1.103 %\n",
      "State_CT = 0.281 %\n",
      "State_DC = 0.251 %\n",
      "State_DE = 0.0 %\n",
      "State_FL = 2.845 %\n",
      "State_GA = 2.71 %\n",
      "State_HI = 1.374 %\n",
      "State_IA = 0.653 %\n",
      "State_ID = 0.189 %\n",
      "State_IL = 1.238 %\n",
      "State_IN = 0.384 %\n",
      "State_KS = 0.792 %\n",
      "State_KY = 0.457 %\n",
      "State_LA = 0.408 %\n",
      "State_MA = 1.272 %\n",
      "State_MD = 0.29 %\n",
      "State_ME = 1.857 %\n",
      "State_MI = 0.629 %\n",
      "State_MN = 0.78 %\n",
      "State_MO = 0.137 %\n",
      "State_MS = 0.573 %\n",
      "State_MT = 2.736 %\n",
      "State_NC = 0.135 %\n",
      "State_ND = 1.166 %\n",
      "State_NE = 0.871 %\n",
      "State_NH = 0.298 %\n",
      "State_NJ = 0.808 %\n",
      "State_NM = 0.274 %\n",
      "State_NV = 1.314 %\n",
      "State_NY = 0.859 %\n",
      "State_OH = 0.604 %\n",
      "State_OK = 0.375 %\n",
      "State_OR = 0.734 %\n",
      "State_PA = 2.224 %\n",
      "State_RI = 0.56 %\n",
      "State_SC = 0.339 %\n",
      "State_SD = 0.411 %\n",
      "State_TN = 0.553 %\n",
      "State_TX = 0.624 %\n",
      "State_UT = 1.563 %\n",
      "State_VA = 0.308 %\n",
      "State_VT = 1.911 %\n",
      "State_WA = 0.462 %\n",
      "State_WI = 0.445 %\n",
      "State_WV = 0.552 %\n",
      "State_WY = 1.092 %\n",
      "Term = 16.966 %\n",
      "UrbanRural = 2.01 %\n"
     ]
    }
   ],
   "source": [
    "for name, importance in sorted(zip(X.columns, xgboost.feature_importances_)):\n",
    "    print(name, \"=\", round(importance*100,3), \"%\")"
   ]
  },
  {
   "cell_type": "markdown",
   "id": "df725e9b",
   "metadata": {},
   "source": [
    "##### # Observations -\n",
    "\n",
    "Top 5 features : \n",
    "    Term (17%)\n",
    "    --> ApprovalFY (6%)\n",
    "    --> SBA_ApvPct (3.4%)\n",
    "    --> State_CA (3.3%)\n",
    "    --> State_FL (2.8%)\n",
    "\n",
    "\n",
    "Top 3 industries : \n",
    "    Healthcare (2.2%)\n",
    "    --> Rental/Lease (1.1%) \n",
    "    --> Retail_Trade (1.1%)\n",
    "\n",
    "RealEstate has 0 effect on loan default, understandably since people taking such a risk have a pretty good plan"
   ]
  },
  {
   "cell_type": "markdown",
   "id": "2c761d98",
   "metadata": {},
   "source": [
    "##### > Let's see if reducing the number of features used to the most important ones would have a positive impact on the model performance, since the current model has a high level of dimensionality."
   ]
  },
  {
   "cell_type": "code",
   "execution_count": 55,
   "id": "188eb8bf",
   "metadata": {},
   "outputs": [
    {
     "name": "stdout",
     "output_type": "stream",
     "text": [
      "              precision    recall  f1-score   support\n",
      "\n",
      "           0      0.962     0.964     0.963    116372\n",
      "           1      0.866     0.859     0.863     31318\n",
      "\n",
      "    accuracy                          0.942    147690\n",
      "   macro avg      0.914     0.912     0.913    147690\n",
      "weighted avg      0.942     0.942     0.942    147690\n",
      "\n"
     ]
    }
   ],
   "source": [
    "from sklearn.pipeline import Pipeline   # Build pipeline for feature selection and modeling \n",
    "from sklearn.feature_selection import SelectKBest   # SelectKBest defaults to top 10 features\n",
    "\n",
    "xgb_featimp = XGBClassifier(random_state=0)\n",
    "pipe = Pipeline(steps=[ ('feature_selection', SelectKBest()), ('model', xgb_featimp) ])\n",
    "\n",
    "pipe.fit(X_train, y_train)\n",
    "y_featimppred = pipe.predict(X_val)\n",
    "\n",
    "print(classification_report(y_val, y_featimppred, digits=3))"
   ]
  },
  {
   "cell_type": "markdown",
   "id": "928ca8bd",
   "metadata": {},
   "source": [
    "##### # Reducing the number of features, and thereby dimensionality of the data, didn't affect the results too much."
   ]
  },
  {
   "cell_type": "markdown",
   "id": "3382628e",
   "metadata": {},
   "source": [
    "##### > List the importance of each feature for the lower dimensionality dataframe"
   ]
  },
  {
   "cell_type": "code",
   "execution_count": 56,
   "id": "3fb4ab62",
   "metadata": {},
   "outputs": [
    {
     "name": "stdout",
     "output_type": "stream",
     "text": [
      "ApprovalFY = 18.134 %\n",
      "BalanceGross = 9.496 %\n",
      "DisbursementGross = 2.797 %\n",
      "GrAppv = 0.0 %\n",
      "LowDoc = 3.465 %\n",
      "NewExist = 5.72 %\n",
      "RevLineCr = 2.61 %\n",
      "SBA_Appv = 5.626 %\n",
      "Term = 48.527 %\n",
      "UrbanRural = 3.627 %\n"
     ]
    }
   ],
   "source": [
    "for name, importance in sorted(zip(X.columns, xgb_featimp.feature_importances_)):\n",
    "    print(name, \"=\", round(importance*100,3), \"%\")"
   ]
  },
  {
   "cell_type": "markdown",
   "id": "7b22e9ed",
   "metadata": {},
   "source": [
    "##### # Observation -\n",
    "\n",
    "Top 5 features are now Term (50%), ApprovalFY (16%), BalanceGross (10%), SBA_Appv (5.5%), NewExist (4.5%)\n",
    "\n",
    "Note how ApprovalFY and Term are the only initial features on this new Top 5 list"
   ]
  },
  {
   "cell_type": "markdown",
   "id": "c9f865d6",
   "metadata": {},
   "source": [
    "### CONCLUSION\n",
    "\n",
    "##### According to the analysis, the factor that contributed the most to whether or not a loan defaulted is the loan's Term length."
   ]
  }
 ],
 "metadata": {
  "kernelspec": {
   "display_name": "Python 3 (ipykernel)",
   "language": "python",
   "name": "python3"
  },
  "language_info": {
   "codemirror_mode": {
    "name": "ipython",
    "version": 3
   },
   "file_extension": ".py",
   "mimetype": "text/x-python",
   "name": "python",
   "nbconvert_exporter": "python",
   "pygments_lexer": "ipython3",
   "version": "3.7.4"
  }
 },
 "nbformat": 4,
 "nbformat_minor": 5
}
